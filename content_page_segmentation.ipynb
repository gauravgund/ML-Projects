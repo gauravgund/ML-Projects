{
  "nbformat": 4,
  "nbformat_minor": 0,
  "metadata": {
    "colab": {
      "name": "content_page_segmentation",
      "provenance": []
    },
    "kernelspec": {
      "name": "python3",
      "display_name": "Python 3"
    },
    "language_info": {
      "name": "python"
    },
    "accelerator": "GPU"
  },
  "cells": [
    {
      "cell_type": "code",
      "metadata": {
        "colab": {
          "base_uri": "https://localhost:8080/"
        },
        "id": "m7mWz8to1Q-g",
        "outputId": "3c12e1a0-17e8-4aa7-8934-1d8005f367e7"
      },
      "source": [
        "! pip install pytesseract\n",
        "! apt install tesseract-ocr \n",
        "! apt install libtesseract-dev"
      ],
      "execution_count": null,
      "outputs": [
        {
          "output_type": "stream",
          "text": [
            "Collecting pytesseract\n",
            "  Downloading pytesseract-0.3.8.tar.gz (14 kB)\n",
            "Requirement already satisfied: Pillow in /usr/local/lib/python3.7/dist-packages (from pytesseract) (7.1.2)\n",
            "Building wheels for collected packages: pytesseract\n",
            "  Building wheel for pytesseract (setup.py) ... \u001b[?25l\u001b[?25hdone\n",
            "  Created wheel for pytesseract: filename=pytesseract-0.3.8-py2.py3-none-any.whl size=14071 sha256=53e04bdccb0a8fec82f55f445fa26eb53758ecfcab6694aba89aa347b949cd79\n",
            "  Stored in directory: /root/.cache/pip/wheels/a4/89/b9/3f11250225d0f90e5454fcc30fd1b7208db226850715aa9ace\n",
            "Successfully built pytesseract\n",
            "Installing collected packages: pytesseract\n",
            "Successfully installed pytesseract-0.3.8\n",
            "Reading package lists... Done\n",
            "Building dependency tree       \n",
            "Reading state information... Done\n",
            "The following additional packages will be installed:\n",
            "  tesseract-ocr-eng tesseract-ocr-osd\n",
            "The following NEW packages will be installed:\n",
            "  tesseract-ocr tesseract-ocr-eng tesseract-ocr-osd\n",
            "0 upgraded, 3 newly installed, 0 to remove and 40 not upgraded.\n",
            "Need to get 4,795 kB of archives.\n",
            "After this operation, 15.8 MB of additional disk space will be used.\n",
            "Get:1 http://archive.ubuntu.com/ubuntu bionic/universe amd64 tesseract-ocr-eng all 4.00~git24-0e00fe6-1.2 [1,588 kB]\n",
            "Get:2 http://archive.ubuntu.com/ubuntu bionic/universe amd64 tesseract-ocr-osd all 4.00~git24-0e00fe6-1.2 [2,989 kB]\n",
            "Get:3 http://archive.ubuntu.com/ubuntu bionic/universe amd64 tesseract-ocr amd64 4.00~git2288-10f4998a-2 [218 kB]\n",
            "Fetched 4,795 kB in 2s (3,039 kB/s)\n",
            "Selecting previously unselected package tesseract-ocr-eng.\n",
            "(Reading database ... 160837 files and directories currently installed.)\n",
            "Preparing to unpack .../tesseract-ocr-eng_4.00~git24-0e00fe6-1.2_all.deb ...\n",
            "Unpacking tesseract-ocr-eng (4.00~git24-0e00fe6-1.2) ...\n",
            "Selecting previously unselected package tesseract-ocr-osd.\n",
            "Preparing to unpack .../tesseract-ocr-osd_4.00~git24-0e00fe6-1.2_all.deb ...\n",
            "Unpacking tesseract-ocr-osd (4.00~git24-0e00fe6-1.2) ...\n",
            "Selecting previously unselected package tesseract-ocr.\n",
            "Preparing to unpack .../tesseract-ocr_4.00~git2288-10f4998a-2_amd64.deb ...\n",
            "Unpacking tesseract-ocr (4.00~git2288-10f4998a-2) ...\n",
            "Setting up tesseract-ocr-osd (4.00~git24-0e00fe6-1.2) ...\n",
            "Setting up tesseract-ocr-eng (4.00~git24-0e00fe6-1.2) ...\n",
            "Setting up tesseract-ocr (4.00~git2288-10f4998a-2) ...\n",
            "Processing triggers for man-db (2.8.3-2ubuntu0.1) ...\n",
            "Reading package lists... Done\n",
            "Building dependency tree       \n",
            "Reading state information... Done\n",
            "The following additional packages will be installed:\n",
            "  libleptonica-dev\n",
            "The following NEW packages will be installed:\n",
            "  libleptonica-dev libtesseract-dev\n",
            "0 upgraded, 2 newly installed, 0 to remove and 40 not upgraded.\n",
            "Need to get 2,755 kB of archives.\n",
            "After this operation, 13.8 MB of additional disk space will be used.\n",
            "Get:1 http://archive.ubuntu.com/ubuntu bionic/universe amd64 libleptonica-dev amd64 1.75.3-3 [1,308 kB]\n",
            "Get:2 http://archive.ubuntu.com/ubuntu bionic/universe amd64 libtesseract-dev amd64 4.00~git2288-10f4998a-2 [1,447 kB]\n",
            "Fetched 2,755 kB in 2s (1,822 kB/s)\n",
            "Selecting previously unselected package libleptonica-dev.\n",
            "(Reading database ... 160884 files and directories currently installed.)\n",
            "Preparing to unpack .../libleptonica-dev_1.75.3-3_amd64.deb ...\n",
            "Unpacking libleptonica-dev (1.75.3-3) ...\n",
            "Selecting previously unselected package libtesseract-dev.\n",
            "Preparing to unpack .../libtesseract-dev_4.00~git2288-10f4998a-2_amd64.deb ...\n",
            "Unpacking libtesseract-dev (4.00~git2288-10f4998a-2) ...\n",
            "Setting up libleptonica-dev (1.75.3-3) ...\n",
            "Setting up libtesseract-dev (4.00~git2288-10f4998a-2) ...\n"
          ],
          "name": "stdout"
        }
      ]
    },
    {
      "cell_type": "code",
      "metadata": {
        "colab": {
          "base_uri": "https://localhost:8080/"
        },
        "id": "s3Spu75wgxqj",
        "outputId": "c19dfcb5-7ecc-4550-a856-8c1370af3bd8"
      },
      "source": [
        "# rshi\n",
        "from google.colab import drive\n",
        "drive.mount('/content/gdrive')"
      ],
      "execution_count": null,
      "outputs": [
        {
          "output_type": "stream",
          "text": [
            "Mounted at /content/gdrive\n"
          ],
          "name": "stdout"
        }
      ]
    },
    {
      "cell_type": "code",
      "metadata": {
        "colab": {
          "base_uri": "https://localhost:8080/"
        },
        "id": "IKk2gWYaIYSc",
        "outputId": "757c2863-d267-4171-f469-0f3f13aae886"
      },
      "source": [
        "!git clone https://github.com/ultralytics/yolov5  # clone repo\n",
        "%cd yolov5\n",
        "! pip install -r requirements.txt  # instal"
      ],
      "execution_count": null,
      "outputs": [
        {
          "output_type": "stream",
          "text": [
            "Cloning into 'yolov5'...\n",
            "remote: Enumerating objects: 6909, done.\u001b[K\n",
            "remote: Counting objects: 100% (15/15), done.\u001b[K\n",
            "remote: Compressing objects: 100% (15/15), done.\u001b[K\n",
            "remote: Total 6909 (delta 3), reused 3 (delta 0), pack-reused 6894\u001b[K\n",
            "Receiving objects: 100% (6909/6909), 8.78 MiB | 25.85 MiB/s, done.\n",
            "Resolving deltas: 100% (4742/4742), done.\n",
            "/content/yolov5\n",
            "Requirement already satisfied: matplotlib>=3.2.2 in /usr/local/lib/python3.7/dist-packages (from -r requirements.txt (line 4)) (3.2.2)\n",
            "Requirement already satisfied: numpy>=1.18.5 in /usr/local/lib/python3.7/dist-packages (from -r requirements.txt (line 5)) (1.19.5)\n",
            "Requirement already satisfied: opencv-python>=4.1.2 in /usr/local/lib/python3.7/dist-packages (from -r requirements.txt (line 6)) (4.1.2.30)\n",
            "Requirement already satisfied: Pillow in /usr/local/lib/python3.7/dist-packages (from -r requirements.txt (line 7)) (7.1.2)\n",
            "Collecting PyYAML>=5.3.1\n",
            "\u001b[?25l  Downloading https://files.pythonhosted.org/packages/7a/a5/393c087efdc78091afa2af9f1378762f9821c9c1d7a22c5753fb5ac5f97a/PyYAML-5.4.1-cp37-cp37m-manylinux1_x86_64.whl (636kB)\n",
            "\u001b[K     |████████████████████████████████| 645kB 5.1MB/s \n",
            "\u001b[?25hRequirement already satisfied: scipy>=1.4.1 in /usr/local/lib/python3.7/dist-packages (from -r requirements.txt (line 9)) (1.4.1)\n",
            "Requirement already satisfied: torch>=1.7.0 in /usr/local/lib/python3.7/dist-packages (from -r requirements.txt (line 10)) (1.8.1+cu101)\n",
            "Requirement already satisfied: torchvision>=0.8.1 in /usr/local/lib/python3.7/dist-packages (from -r requirements.txt (line 11)) (0.9.1+cu101)\n",
            "Requirement already satisfied: tqdm>=4.41.0 in /usr/local/lib/python3.7/dist-packages (from -r requirements.txt (line 12)) (4.41.1)\n",
            "Requirement already satisfied: tensorboard>=2.4.1 in /usr/local/lib/python3.7/dist-packages (from -r requirements.txt (line 15)) (2.5.0)\n",
            "Requirement already satisfied: seaborn>=0.11.0 in /usr/local/lib/python3.7/dist-packages (from -r requirements.txt (line 19)) (0.11.1)\n",
            "Requirement already satisfied: pandas in /usr/local/lib/python3.7/dist-packages (from -r requirements.txt (line 20)) (1.1.5)\n",
            "Requirement already satisfied: pycocotools>=2.0 in /usr/local/lib/python3.7/dist-packages (from -r requirements.txt (line 29)) (2.0.2)\n",
            "Collecting thop\n",
            "  Downloading https://files.pythonhosted.org/packages/6c/8b/22ce44e1c71558161a8bd54471123cc796589c7ebbfc15a7e8932e522f83/thop-0.0.31.post2005241907-py3-none-any.whl\n",
            "Requirement already satisfied: kiwisolver>=1.0.1 in /usr/local/lib/python3.7/dist-packages (from matplotlib>=3.2.2->-r requirements.txt (line 4)) (1.3.1)\n",
            "Requirement already satisfied: cycler>=0.10 in /usr/local/lib/python3.7/dist-packages (from matplotlib>=3.2.2->-r requirements.txt (line 4)) (0.10.0)\n",
            "Requirement already satisfied: pyparsing!=2.0.4,!=2.1.2,!=2.1.6,>=2.0.1 in /usr/local/lib/python3.7/dist-packages (from matplotlib>=3.2.2->-r requirements.txt (line 4)) (2.4.7)\n",
            "Requirement already satisfied: python-dateutil>=2.1 in /usr/local/lib/python3.7/dist-packages (from matplotlib>=3.2.2->-r requirements.txt (line 4)) (2.8.1)\n",
            "Requirement already satisfied: typing-extensions in /usr/local/lib/python3.7/dist-packages (from torch>=1.7.0->-r requirements.txt (line 10)) (3.7.4.3)\n",
            "Requirement already satisfied: requests<3,>=2.21.0 in /usr/local/lib/python3.7/dist-packages (from tensorboard>=2.4.1->-r requirements.txt (line 15)) (2.23.0)\n",
            "Requirement already satisfied: markdown>=2.6.8 in /usr/local/lib/python3.7/dist-packages (from tensorboard>=2.4.1->-r requirements.txt (line 15)) (3.3.4)\n",
            "Requirement already satisfied: google-auth<2,>=1.6.3 in /usr/local/lib/python3.7/dist-packages (from tensorboard>=2.4.1->-r requirements.txt (line 15)) (1.30.0)\n",
            "Requirement already satisfied: protobuf>=3.6.0 in /usr/local/lib/python3.7/dist-packages (from tensorboard>=2.4.1->-r requirements.txt (line 15)) (3.12.4)\n",
            "Requirement already satisfied: tensorboard-data-server<0.7.0,>=0.6.0 in /usr/local/lib/python3.7/dist-packages (from tensorboard>=2.4.1->-r requirements.txt (line 15)) (0.6.1)\n",
            "Requirement already satisfied: wheel>=0.26; python_version >= \"3\" in /usr/local/lib/python3.7/dist-packages (from tensorboard>=2.4.1->-r requirements.txt (line 15)) (0.36.2)\n",
            "Requirement already satisfied: setuptools>=41.0.0 in /usr/local/lib/python3.7/dist-packages (from tensorboard>=2.4.1->-r requirements.txt (line 15)) (57.0.0)\n",
            "Requirement already satisfied: werkzeug>=0.11.15 in /usr/local/lib/python3.7/dist-packages (from tensorboard>=2.4.1->-r requirements.txt (line 15)) (1.0.1)\n",
            "Requirement already satisfied: tensorboard-plugin-wit>=1.6.0 in /usr/local/lib/python3.7/dist-packages (from tensorboard>=2.4.1->-r requirements.txt (line 15)) (1.8.0)\n",
            "Requirement already satisfied: absl-py>=0.4 in /usr/local/lib/python3.7/dist-packages (from tensorboard>=2.4.1->-r requirements.txt (line 15)) (0.12.0)\n",
            "Requirement already satisfied: grpcio>=1.24.3 in /usr/local/lib/python3.7/dist-packages (from tensorboard>=2.4.1->-r requirements.txt (line 15)) (1.34.1)\n",
            "Requirement already satisfied: google-auth-oauthlib<0.5,>=0.4.1 in /usr/local/lib/python3.7/dist-packages (from tensorboard>=2.4.1->-r requirements.txt (line 15)) (0.4.4)\n",
            "Requirement already satisfied: pytz>=2017.2 in /usr/local/lib/python3.7/dist-packages (from pandas->-r requirements.txt (line 20)) (2018.9)\n",
            "Requirement already satisfied: cython>=0.27.3 in /usr/local/lib/python3.7/dist-packages (from pycocotools>=2.0->-r requirements.txt (line 29)) (0.29.23)\n",
            "Requirement already satisfied: six in /usr/local/lib/python3.7/dist-packages (from cycler>=0.10->matplotlib>=3.2.2->-r requirements.txt (line 4)) (1.15.0)\n",
            "Requirement already satisfied: certifi>=2017.4.17 in /usr/local/lib/python3.7/dist-packages (from requests<3,>=2.21.0->tensorboard>=2.4.1->-r requirements.txt (line 15)) (2020.12.5)\n",
            "Requirement already satisfied: urllib3!=1.25.0,!=1.25.1,<1.26,>=1.21.1 in /usr/local/lib/python3.7/dist-packages (from requests<3,>=2.21.0->tensorboard>=2.4.1->-r requirements.txt (line 15)) (1.24.3)\n",
            "Requirement already satisfied: chardet<4,>=3.0.2 in /usr/local/lib/python3.7/dist-packages (from requests<3,>=2.21.0->tensorboard>=2.4.1->-r requirements.txt (line 15)) (3.0.4)\n",
            "Requirement already satisfied: idna<3,>=2.5 in /usr/local/lib/python3.7/dist-packages (from requests<3,>=2.21.0->tensorboard>=2.4.1->-r requirements.txt (line 15)) (2.10)\n",
            "Requirement already satisfied: importlib-metadata; python_version < \"3.8\" in /usr/local/lib/python3.7/dist-packages (from markdown>=2.6.8->tensorboard>=2.4.1->-r requirements.txt (line 15)) (4.0.1)\n",
            "Requirement already satisfied: pyasn1-modules>=0.2.1 in /usr/local/lib/python3.7/dist-packages (from google-auth<2,>=1.6.3->tensorboard>=2.4.1->-r requirements.txt (line 15)) (0.2.8)\n",
            "Requirement already satisfied: cachetools<5.0,>=2.0.0 in /usr/local/lib/python3.7/dist-packages (from google-auth<2,>=1.6.3->tensorboard>=2.4.1->-r requirements.txt (line 15)) (4.2.2)\n",
            "Requirement already satisfied: rsa<5,>=3.1.4; python_version >= \"3.6\" in /usr/local/lib/python3.7/dist-packages (from google-auth<2,>=1.6.3->tensorboard>=2.4.1->-r requirements.txt (line 15)) (4.7.2)\n",
            "Requirement already satisfied: requests-oauthlib>=0.7.0 in /usr/local/lib/python3.7/dist-packages (from google-auth-oauthlib<0.5,>=0.4.1->tensorboard>=2.4.1->-r requirements.txt (line 15)) (1.3.0)\n",
            "Requirement already satisfied: zipp>=0.5 in /usr/local/lib/python3.7/dist-packages (from importlib-metadata; python_version < \"3.8\"->markdown>=2.6.8->tensorboard>=2.4.1->-r requirements.txt (line 15)) (3.4.1)\n",
            "Requirement already satisfied: pyasn1<0.5.0,>=0.4.6 in /usr/local/lib/python3.7/dist-packages (from pyasn1-modules>=0.2.1->google-auth<2,>=1.6.3->tensorboard>=2.4.1->-r requirements.txt (line 15)) (0.4.8)\n",
            "Requirement already satisfied: oauthlib>=3.0.0 in /usr/local/lib/python3.7/dist-packages (from requests-oauthlib>=0.7.0->google-auth-oauthlib<0.5,>=0.4.1->tensorboard>=2.4.1->-r requirements.txt (line 15)) (3.1.0)\n",
            "Installing collected packages: PyYAML, thop\n",
            "  Found existing installation: PyYAML 3.13\n",
            "    Uninstalling PyYAML-3.13:\n",
            "      Successfully uninstalled PyYAML-3.13\n",
            "Successfully installed PyYAML-5.4.1 thop-0.0.31.post2005241907\n"
          ],
          "name": "stdout"
        }
      ]
    },
    {
      "cell_type": "code",
      "metadata": {
        "colab": {
          "base_uri": "https://localhost:8080/"
        },
        "id": "CwPSYvKMsy1k",
        "outputId": "de786fbf-82fc-46ff-bef6-d04a9df51cc1"
      },
      "source": [
        "%cd /content/yolov5"
      ],
      "execution_count": null,
      "outputs": [
        {
          "output_type": "stream",
          "text": [
            "/content/yolov5\n"
          ],
          "name": "stdout"
        }
      ]
    },
    {
      "cell_type": "code",
      "metadata": {
        "id": "HWgNEW66Jvq9",
        "colab": {
          "base_uri": "https://localhost:8080/",
          "height": 1000
        },
        "outputId": "c7041700-4447-4123-98f9-71c309cceca9"
      },
      "source": [
        "! python train.py --img 640 --batch 32 --epochs 30 --data /content/yolov5/data/yolov5.yaml --weights /content/gdrive/MyDrive/content_page_segmentation/best.pt"
      ],
      "execution_count": null,
      "outputs": [
        {
          "output_type": "stream",
          "text": [
            "remote: Enumerating objects: 9, done.\u001b[K\n",
            "remote: Counting objects: 100% (9/9), done.\u001b[K\n",
            "remote: Compressing objects: 100% (8/8), done.\u001b[K\n",
            "remote: Total 9 (delta 2), reused 5 (delta 1), pack-reused 0\u001b[K\n",
            "Unpacking objects: 100% (9/9), done.\n",
            "From https://github.com/ultralytics/yolov5\n",
            "   8d1ddc9..abb2a96  develop    -> origin/develop\n",
            "\u001b[34m\u001b[1mgithub: \u001b[0m⚠️ WARNING: code is out of date by 1 commit. Use 'git pull' to update or 'git clone https://github.com/ultralytics/yolov5' to download latest.\n",
            "YOLOv5 🚀 v5.0-146-g90b7895 torch 1.8.1+cu101 CUDA:0 (Tesla P100-PCIE-16GB, 16280.875MB)\n",
            "\n",
            "Namespace(adam=False, artifact_alias='latest', batch_size=32, bbox_interval=-1, bucket='', cache_images=False, cfg='', data='/content/yolov5/data/yolov5.yaml', device='', entity=None, epochs=30, evolve=False, exist_ok=False, global_rank=-1, hyp='data/hyp.scratch.yaml', image_weights=False, img_size=[640, 640], label_smoothing=0.0, linear_lr=False, local_rank=-1, multi_scale=False, name='exp', noautoanchor=False, nosave=False, notest=False, project='runs/train', quad=False, rect=False, resume=False, save_dir='runs/train/exp4', save_period=-1, single_cls=False, sync_bn=False, total_batch_size=32, upload_dataset=False, weights='/content/gdrive/MyDrive/content_page_segmentation/best.pt', workers=8, world_size=1)\n",
            "\u001b[34m\u001b[1mtensorboard: \u001b[0mStart with 'tensorboard --logdir runs/train', view at http://localhost:6006/\n",
            "2021-06-08 03:38:16.248103: I tensorflow/stream_executor/platform/default/dso_loader.cc:53] Successfully opened dynamic library libcudart.so.11.0\n",
            "\u001b[34m\u001b[1mhyperparameters: \u001b[0mlr0=0.01, lrf=0.2, momentum=0.937, weight_decay=0.0005, warmup_epochs=3.0, warmup_momentum=0.8, warmup_bias_lr=0.1, box=0.05, cls=0.5, cls_pw=1.0, obj=1.0, obj_pw=1.0, iou_t=0.2, anchor_t=4.0, fl_gamma=0.0, hsv_h=0.015, hsv_s=0.7, hsv_v=0.4, degrees=0.0, translate=0.1, scale=0.5, shear=0.0, perspective=0.0, flipud=0.0, fliplr=0.5, mosaic=1.0, mixup=0.0\n",
            "\u001b[34m\u001b[1mwandb: \u001b[0mInstall Weights & Biases for YOLOv5 logging with 'pip install wandb' (recommended)\n",
            "\n",
            "                 from  n    params  module                                  arguments                     \n",
            "  0                -1  1      3520  models.common.Focus                     [3, 32, 3]                    \n",
            "  1                -1  1     18560  models.common.Conv                      [32, 64, 3, 2]                \n",
            "  2                -1  1     18816  models.common.C3                        [64, 64, 1]                   \n",
            "  3                -1  1     73984  models.common.Conv                      [64, 128, 3, 2]               \n",
            "  4                -1  1    156928  models.common.C3                        [128, 128, 3]                 \n",
            "  5                -1  1    295424  models.common.Conv                      [128, 256, 3, 2]              \n",
            "  6                -1  1    625152  models.common.C3                        [256, 256, 3]                 \n",
            "  7                -1  1   1180672  models.common.Conv                      [256, 512, 3, 2]              \n",
            "  8                -1  1    656896  models.common.SPP                       [512, 512, [5, 9, 13]]        \n",
            "  9                -1  1   1182720  models.common.C3                        [512, 512, 1, False]          \n",
            " 10                -1  1    131584  models.common.Conv                      [512, 256, 1, 1]              \n",
            " 11                -1  1         0  torch.nn.modules.upsampling.Upsample    [None, 2, 'nearest']          \n",
            " 12           [-1, 6]  1         0  models.common.Concat                    [1]                           \n",
            " 13                -1  1    361984  models.common.C3                        [512, 256, 1, False]          \n",
            " 14                -1  1     33024  models.common.Conv                      [256, 128, 1, 1]              \n",
            " 15                -1  1         0  torch.nn.modules.upsampling.Upsample    [None, 2, 'nearest']          \n",
            " 16           [-1, 4]  1         0  models.common.Concat                    [1]                           \n",
            " 17                -1  1     90880  models.common.C3                        [256, 128, 1, False]          \n",
            " 18                -1  1    147712  models.common.Conv                      [128, 128, 3, 2]              \n",
            " 19          [-1, 14]  1         0  models.common.Concat                    [1]                           \n",
            " 20                -1  1    296448  models.common.C3                        [256, 256, 1, False]          \n",
            " 21                -1  1    590336  models.common.Conv                      [256, 256, 3, 2]              \n",
            " 22          [-1, 10]  1         0  models.common.Concat                    [1]                           \n",
            " 23                -1  1   1182720  models.common.C3                        [512, 512, 1, False]          \n",
            " 24      [17, 20, 23]  1     16182  models.yolo.Detect                      [1, [[10, 13, 16, 30, 33, 23], [30, 61, 62, 45, 59, 119], [116, 90, 156, 198, 373, 326]], [128, 256, 512]]\n",
            "Model Summary: 283 layers, 7063542 parameters, 7063542 gradients, 16.4 GFLOPs\n",
            "\n",
            "Transferred 362/362 items from /content/gdrive/MyDrive/content_page_segmentation/best.pt\n",
            "Scaled weight_decay = 0.0005\n",
            "Optimizer groups: 62 .bias, 62 conv.weight, 59 other\n",
            "/content/gdrive/MyDrive/content_page_segmentation/best.pt has been trained for 228 epochs. Fine-tuning for 30 additional epochs.\n",
            "\u001b[34m\u001b[1mtrain: \u001b[0mScanning '/content/gdrive/MyDrive/content_page_segmentation/labels/train.cache' images and labels... 550 found, 0 missing, 0 empty, 0 corrupted: 100% 550/550 [00:00<00:00, 4776122.57it/s]\n",
            "\u001b[34m\u001b[1mval: \u001b[0mScanning '/content/gdrive/MyDrive/content_page_segmentation/labels/val.cache' images and labels... 25 found, 0 missing, 0 empty, 0 corrupted: 100% 25/25 [00:00<00:00, 122069.38it/s]\n",
            "Plotting labels... \n",
            "\n",
            "\u001b[34m\u001b[1mautoanchor: \u001b[0mAnalyzing anchors... anchors/target = 4.55, Best Possible Recall (BPR) = 0.9963\n",
            "Image sizes 640 train, 640 test\n",
            "Using 2 dataloader workers\n",
            "Logging results to runs/train/exp4\n",
            "Starting training for 258 epochs...\n",
            "\n",
            "     Epoch   gpu_mem       box       obj       cls     total    labels  img_size\n",
            "   229/257     2.37G   0.01505   0.01694         0   0.03199        43       640: 100% 18/18 [00:58<00:00,  3.27s/it]\n",
            "               Class      Images      Labels           P           R      mAP@.5  mAP@.5:.95:   0% 0/1 [00:00<?, ?it/s]Traceback (most recent call last):\n",
            "  File \"train.py\", line 543, in <module>\n",
            "    train(hyp, opt, device, tb_writer)\n",
            "  File \"train.py\", line 368, in train\n",
            "    is_coco=is_coco)\n",
            "  File \"/usr/local/lib/python3.7/dist-packages/torch/autograd/grad_mode.py\", line 27, in decorate_context\n",
            "    return func(*args, **kwargs)\n",
            "  File \"/content/yolov5/test.py\", line 102, in test\n",
            "    for batch_i, (img, targets, paths, shapes) in enumerate(tqdm(dataloader, desc=s)):\n",
            "  File \"/usr/local/lib/python3.7/dist-packages/tqdm/std.py\", line 1104, in __iter__\n",
            "    for obj in iterable:\n",
            "  File \"/content/yolov5/utils/datasets.py\", line 108, in __iter__\n",
            "    yield next(self.iterator)\n",
            "  File \"/usr/local/lib/python3.7/dist-packages/torch/utils/data/dataloader.py\", line 517, in __next__\n",
            "    data = self._next_data()\n",
            "  File \"/usr/local/lib/python3.7/dist-packages/torch/utils/data/dataloader.py\", line 1182, in _next_data\n",
            "    idx, data = self._get_data()\n",
            "  File \"/usr/local/lib/python3.7/dist-packages/torch/utils/data/dataloader.py\", line 1138, in _get_data\n",
            "    success, data = self._try_get_data()\n",
            "  File \"/usr/local/lib/python3.7/dist-packages/torch/utils/data/dataloader.py\", line 986, in _try_get_data\n",
            "    data = self._data_queue.get(timeout=timeout)\n",
            "  File \"/usr/lib/python3.7/queue.py\", line 179, in get\n",
            "    self.not_empty.wait(remaining)\n",
            "  File \"/usr/lib/python3.7/threading.py\", line 300, in wait\n",
            "    gotit = waiter.acquire(True, timeout)\n",
            "KeyboardInterrupt\n",
            "Error in atexit._run_exitfuncs:\n",
            "Traceback (most recent call last):\n",
            "  File \"/usr/lib/python3.7/multiprocessing/util.py\", line 300, in _run_finalizers\n",
            "    finalizer()\n",
            "  File \"/usr/lib/python3.7/multiprocessing/util.py\", line 224, in __call__\n",
            "    res = self._callback(*self._args, **self._kwargs)\n",
            "  File \"/usr/lib/python3.7/multiprocessing/queues.py\", line 202, in _finalize_close\n",
            "    notempty.notify()\n",
            "  File \"/usr/lib/python3.7/threading.py\", line 352, in notify\n",
            "    waiter.release()\n",
            "KeyboardInterrupt\n",
            "               Class      Images      Labels           P           R      mAP@.5  mAP@.5:.95:   0% 0/1 [12:39<?, ?it/s]\n"
          ],
          "name": "stdout"
        },
        {
          "output_type": "error",
          "ename": "KeyboardInterrupt",
          "evalue": "ignored",
          "traceback": [
            "\u001b[0;31m---------------------------------------------------------------------------\u001b[0m",
            "\u001b[0;31mKeyboardInterrupt\u001b[0m                         Traceback (most recent call last)",
            "\u001b[0;32m<ipython-input-4-0e37a01707b5>\u001b[0m in \u001b[0;36m<module>\u001b[0;34m()\u001b[0m\n\u001b[0;32m----> 1\u001b[0;31m \u001b[0mget_ipython\u001b[0m\u001b[0;34m(\u001b[0m\u001b[0;34m)\u001b[0m\u001b[0;34m.\u001b[0m\u001b[0msystem\u001b[0m\u001b[0;34m(\u001b[0m\u001b[0;34m' python train.py --img 640 --batch 32 --epochs 30 --data /content/yolov5/data/yolov5.yaml --weights /content/gdrive/MyDrive/content_page_segmentation/best.pt'\u001b[0m\u001b[0;34m)\u001b[0m\u001b[0;34m\u001b[0m\u001b[0;34m\u001b[0m\u001b[0m\n\u001b[0m",
            "\u001b[0;32m/usr/local/lib/python3.7/dist-packages/google/colab/_shell.py\u001b[0m in \u001b[0;36msystem\u001b[0;34m(self, *args, **kwargs)\u001b[0m\n\u001b[1;32m    100\u001b[0m       \u001b[0mkwargs\u001b[0m\u001b[0;34m.\u001b[0m\u001b[0mupdate\u001b[0m\u001b[0;34m(\u001b[0m\u001b[0;34m{\u001b[0m\u001b[0;34m'also_return_output'\u001b[0m\u001b[0;34m:\u001b[0m \u001b[0;32mTrue\u001b[0m\u001b[0;34m}\u001b[0m\u001b[0;34m)\u001b[0m\u001b[0;34m\u001b[0m\u001b[0;34m\u001b[0m\u001b[0m\n\u001b[1;32m    101\u001b[0m \u001b[0;34m\u001b[0m\u001b[0m\n\u001b[0;32m--> 102\u001b[0;31m     \u001b[0moutput\u001b[0m \u001b[0;34m=\u001b[0m \u001b[0m_system_commands\u001b[0m\u001b[0;34m.\u001b[0m\u001b[0m_system_compat\u001b[0m\u001b[0;34m(\u001b[0m\u001b[0mself\u001b[0m\u001b[0;34m,\u001b[0m \u001b[0;34m*\u001b[0m\u001b[0margs\u001b[0m\u001b[0;34m,\u001b[0m \u001b[0;34m**\u001b[0m\u001b[0mkwargs\u001b[0m\u001b[0;34m)\u001b[0m  \u001b[0;31m# pylint:disable=protected-access\u001b[0m\u001b[0;34m\u001b[0m\u001b[0;34m\u001b[0m\u001b[0m\n\u001b[0m\u001b[1;32m    103\u001b[0m \u001b[0;34m\u001b[0m\u001b[0m\n\u001b[1;32m    104\u001b[0m     \u001b[0;32mif\u001b[0m \u001b[0mpip_warn\u001b[0m\u001b[0;34m:\u001b[0m\u001b[0;34m\u001b[0m\u001b[0;34m\u001b[0m\u001b[0m\n",
            "\u001b[0;32m/usr/local/lib/python3.7/dist-packages/google/colab/_system_commands.py\u001b[0m in \u001b[0;36m_system_compat\u001b[0;34m(shell, cmd, also_return_output)\u001b[0m\n\u001b[1;32m    445\u001b[0m   \u001b[0;31m# stack.\u001b[0m\u001b[0;34m\u001b[0m\u001b[0;34m\u001b[0m\u001b[0;34m\u001b[0m\u001b[0m\n\u001b[1;32m    446\u001b[0m   result = _run_command(\n\u001b[0;32m--> 447\u001b[0;31m       shell.var_expand(cmd, depth=2), clear_streamed_output=False)\n\u001b[0m\u001b[1;32m    448\u001b[0m   \u001b[0mshell\u001b[0m\u001b[0;34m.\u001b[0m\u001b[0muser_ns\u001b[0m\u001b[0;34m[\u001b[0m\u001b[0;34m'_exit_code'\u001b[0m\u001b[0;34m]\u001b[0m \u001b[0;34m=\u001b[0m \u001b[0mresult\u001b[0m\u001b[0;34m.\u001b[0m\u001b[0mreturncode\u001b[0m\u001b[0;34m\u001b[0m\u001b[0;34m\u001b[0m\u001b[0m\n\u001b[1;32m    449\u001b[0m   \u001b[0;32mif\u001b[0m \u001b[0;34m-\u001b[0m\u001b[0mresult\u001b[0m\u001b[0;34m.\u001b[0m\u001b[0mreturncode\u001b[0m \u001b[0;32min\u001b[0m \u001b[0m_INTERRUPTED_SIGNALS\u001b[0m\u001b[0;34m:\u001b[0m\u001b[0;34m\u001b[0m\u001b[0;34m\u001b[0m\u001b[0m\n",
            "\u001b[0;32m/usr/local/lib/python3.7/dist-packages/google/colab/_system_commands.py\u001b[0m in \u001b[0;36m_run_command\u001b[0;34m(cmd, clear_streamed_output)\u001b[0m\n\u001b[1;32m    197\u001b[0m       \u001b[0mos\u001b[0m\u001b[0;34m.\u001b[0m\u001b[0mclose\u001b[0m\u001b[0;34m(\u001b[0m\u001b[0mchild_pty\u001b[0m\u001b[0;34m)\u001b[0m\u001b[0;34m\u001b[0m\u001b[0;34m\u001b[0m\u001b[0m\n\u001b[1;32m    198\u001b[0m \u001b[0;34m\u001b[0m\u001b[0m\n\u001b[0;32m--> 199\u001b[0;31m       \u001b[0;32mreturn\u001b[0m \u001b[0m_monitor_process\u001b[0m\u001b[0;34m(\u001b[0m\u001b[0mparent_pty\u001b[0m\u001b[0;34m,\u001b[0m \u001b[0mepoll\u001b[0m\u001b[0;34m,\u001b[0m \u001b[0mp\u001b[0m\u001b[0;34m,\u001b[0m \u001b[0mcmd\u001b[0m\u001b[0;34m,\u001b[0m \u001b[0mupdate_stdin_widget\u001b[0m\u001b[0;34m)\u001b[0m\u001b[0;34m\u001b[0m\u001b[0;34m\u001b[0m\u001b[0m\n\u001b[0m\u001b[1;32m    200\u001b[0m   \u001b[0;32mfinally\u001b[0m\u001b[0;34m:\u001b[0m\u001b[0;34m\u001b[0m\u001b[0;34m\u001b[0m\u001b[0m\n\u001b[1;32m    201\u001b[0m     \u001b[0mepoll\u001b[0m\u001b[0;34m.\u001b[0m\u001b[0mclose\u001b[0m\u001b[0;34m(\u001b[0m\u001b[0;34m)\u001b[0m\u001b[0;34m\u001b[0m\u001b[0;34m\u001b[0m\u001b[0m\n",
            "\u001b[0;32m/usr/local/lib/python3.7/dist-packages/google/colab/_system_commands.py\u001b[0m in \u001b[0;36m_monitor_process\u001b[0;34m(parent_pty, epoll, p, cmd, update_stdin_widget)\u001b[0m\n\u001b[1;32m    227\u001b[0m   \u001b[0;32mwhile\u001b[0m \u001b[0;32mTrue\u001b[0m\u001b[0;34m:\u001b[0m\u001b[0;34m\u001b[0m\u001b[0;34m\u001b[0m\u001b[0m\n\u001b[1;32m    228\u001b[0m     \u001b[0;32mtry\u001b[0m\u001b[0;34m:\u001b[0m\u001b[0;34m\u001b[0m\u001b[0;34m\u001b[0m\u001b[0m\n\u001b[0;32m--> 229\u001b[0;31m       \u001b[0mresult\u001b[0m \u001b[0;34m=\u001b[0m \u001b[0m_poll_process\u001b[0m\u001b[0;34m(\u001b[0m\u001b[0mparent_pty\u001b[0m\u001b[0;34m,\u001b[0m \u001b[0mepoll\u001b[0m\u001b[0;34m,\u001b[0m \u001b[0mp\u001b[0m\u001b[0;34m,\u001b[0m \u001b[0mcmd\u001b[0m\u001b[0;34m,\u001b[0m \u001b[0mdecoder\u001b[0m\u001b[0;34m,\u001b[0m \u001b[0mstate\u001b[0m\u001b[0;34m)\u001b[0m\u001b[0;34m\u001b[0m\u001b[0;34m\u001b[0m\u001b[0m\n\u001b[0m\u001b[1;32m    230\u001b[0m       \u001b[0;32mif\u001b[0m \u001b[0mresult\u001b[0m \u001b[0;32mis\u001b[0m \u001b[0;32mnot\u001b[0m \u001b[0;32mNone\u001b[0m\u001b[0;34m:\u001b[0m\u001b[0;34m\u001b[0m\u001b[0;34m\u001b[0m\u001b[0m\n\u001b[1;32m    231\u001b[0m         \u001b[0;32mreturn\u001b[0m \u001b[0mresult\u001b[0m\u001b[0;34m\u001b[0m\u001b[0;34m\u001b[0m\u001b[0m\n",
            "\u001b[0;32m/usr/local/lib/python3.7/dist-packages/google/colab/_system_commands.py\u001b[0m in \u001b[0;36m_poll_process\u001b[0;34m(parent_pty, epoll, p, cmd, decoder, state)\u001b[0m\n\u001b[1;32m    274\u001b[0m   \u001b[0moutput_available\u001b[0m \u001b[0;34m=\u001b[0m \u001b[0;32mFalse\u001b[0m\u001b[0;34m\u001b[0m\u001b[0;34m\u001b[0m\u001b[0m\n\u001b[1;32m    275\u001b[0m \u001b[0;34m\u001b[0m\u001b[0m\n\u001b[0;32m--> 276\u001b[0;31m   \u001b[0mevents\u001b[0m \u001b[0;34m=\u001b[0m \u001b[0mepoll\u001b[0m\u001b[0;34m.\u001b[0m\u001b[0mpoll\u001b[0m\u001b[0;34m(\u001b[0m\u001b[0;34m)\u001b[0m\u001b[0;34m\u001b[0m\u001b[0;34m\u001b[0m\u001b[0m\n\u001b[0m\u001b[1;32m    277\u001b[0m   \u001b[0minput_events\u001b[0m \u001b[0;34m=\u001b[0m \u001b[0;34m[\u001b[0m\u001b[0;34m]\u001b[0m\u001b[0;34m\u001b[0m\u001b[0;34m\u001b[0m\u001b[0m\n\u001b[1;32m    278\u001b[0m   \u001b[0;32mfor\u001b[0m \u001b[0m_\u001b[0m\u001b[0;34m,\u001b[0m \u001b[0mevent\u001b[0m \u001b[0;32min\u001b[0m \u001b[0mevents\u001b[0m\u001b[0;34m:\u001b[0m\u001b[0;34m\u001b[0m\u001b[0;34m\u001b[0m\u001b[0m\n",
            "\u001b[0;31mKeyboardInterrupt\u001b[0m: "
          ]
        }
      ]
    },
    {
      "cell_type": "code",
      "metadata": {
        "id": "fstGp1rH5R6i"
      },
      "source": [
        "# import shutil\n",
        "# shutil.copy('/content/yolov5/runs/train/exp3/weights/best.pt','/content/gdrive/MyDrive/content_page_segmentation/new')"
      ],
      "execution_count": null,
      "outputs": []
    },
    {
      "cell_type": "code",
      "metadata": {
        "id": "MN6E6kJRvANf",
        "colab": {
          "base_uri": "https://localhost:8080/"
        },
        "outputId": "73c24d30-7289-4a8f-98d2-f36e2fcc28c3"
      },
      "source": [
        "# loading model\n",
        "import torch\n",
        "model = torch.hub.load('ultralytics/yolov5', 'custom', path='/content/gdrive/MyDrive/content_page_segmentation/best.pt')  # custom model"
      ],
      "execution_count": null,
      "outputs": [
        {
          "output_type": "stream",
          "text": [
            "Downloading: \"https://github.com/ultralytics/yolov5/archive/master.zip\" to /root/.cache/torch/hub/master.zip\n"
          ],
          "name": "stderr"
        },
        {
          "output_type": "stream",
          "text": [
            "\u001b[31m\u001b[1mrequirements:\u001b[0m PyYAML>=5.3.1 not found and is required by YOLOv5, attempting auto-update...\n"
          ],
          "name": "stdout"
        },
        {
          "output_type": "stream",
          "text": [
            "YOLOv5 🚀 2021-7-30 torch 1.9.0+cu102 CUDA:0 (Tesla P100-PCIE-16GB, 16280.875MB)\n",
            "\n"
          ],
          "name": "stderr"
        },
        {
          "output_type": "stream",
          "text": [
            "Collecting PyYAML>=5.3.1\n",
            "  Downloading PyYAML-5.4.1-cp37-cp37m-manylinux1_x86_64.whl (636 kB)\n",
            "Installing collected packages: PyYAML\n",
            "  Attempting uninstall: PyYAML\n",
            "    Found existing installation: PyYAML 3.13\n",
            "    Uninstalling PyYAML-3.13:\n",
            "      Successfully uninstalled PyYAML-3.13\n",
            "Successfully installed PyYAML-5.4.1\n",
            "\n",
            "\u001b[31m\u001b[1mrequirements:\u001b[0m 1 package updated per /root/.cache/torch/hub/ultralytics_yolov5_master/requirements.txt\n",
            "\u001b[31m\u001b[1mrequirements:\u001b[0m ⚠️ \u001b[1mRestart runtime or rerun command for updates to take effect\u001b[0m\n",
            "\n"
          ],
          "name": "stdout"
        },
        {
          "output_type": "stream",
          "text": [
            "Fusing layers... \n",
            "Model Summary: 224 layers, 7053910 parameters, 0 gradients\n",
            "Adding AutoShape... \n"
          ],
          "name": "stderr"
        }
      ]
    },
    {
      "cell_type": "code",
      "metadata": {
        "colab": {
          "base_uri": "https://localhost:8080/",
          "height": 244
        },
        "id": "1gJL5kHswTH_",
        "outputId": "bcc4c444-db06-45fd-a540-17aab4cae25c"
      },
      "source": [
        "\n",
        "\n",
        "results = model('/content/Greencore-Group-plc-Annual-Report-and-Financial-Statements-2020_page-3.png')\n",
        "results.print()  \n",
        "results.save()  # or .show()\n",
        "\n",
        "a = results.pandas().xyxy[0]\n",
        "a"
      ],
      "execution_count": null,
      "outputs": [
        {
          "output_type": "stream",
          "text": [
            "image 1/1: 1684x1134 4 contents\n",
            "Speed: 36.9ms pre-process, 11.5ms inference, 1.8ms NMS per image at shape (1, 3, 640, 448)\n",
            "Saved 1 image to 'runs/detect/exp4'\n"
          ],
          "name": "stderr"
        },
        {
          "output_type": "execute_result",
          "data": {
            "text/html": [
              "<div>\n",
              "<style scoped>\n",
              "    .dataframe tbody tr th:only-of-type {\n",
              "        vertical-align: middle;\n",
              "    }\n",
              "\n",
              "    .dataframe tbody tr th {\n",
              "        vertical-align: top;\n",
              "    }\n",
              "\n",
              "    .dataframe thead th {\n",
              "        text-align: right;\n",
              "    }\n",
              "</style>\n",
              "<table border=\"1\" class=\"dataframe\">\n",
              "  <thead>\n",
              "    <tr style=\"text-align: right;\">\n",
              "      <th></th>\n",
              "      <th>xmin</th>\n",
              "      <th>ymin</th>\n",
              "      <th>xmax</th>\n",
              "      <th>ymax</th>\n",
              "      <th>confidence</th>\n",
              "      <th>class</th>\n",
              "      <th>name</th>\n",
              "    </tr>\n",
              "  </thead>\n",
              "  <tbody>\n",
              "    <tr>\n",
              "      <th>0</th>\n",
              "      <td>76.765236</td>\n",
              "      <td>976.851624</td>\n",
              "      <td>395.968781</td>\n",
              "      <td>1249.186035</td>\n",
              "      <td>0.942871</td>\n",
              "      <td>0</td>\n",
              "      <td>content</td>\n",
              "    </tr>\n",
              "    <tr>\n",
              "      <th>1</th>\n",
              "      <td>78.491997</td>\n",
              "      <td>1268.262573</td>\n",
              "      <td>395.639862</td>\n",
              "      <td>1570.856323</td>\n",
              "      <td>0.941406</td>\n",
              "      <td>0</td>\n",
              "      <td>content</td>\n",
              "    </tr>\n",
              "    <tr>\n",
              "      <th>2</th>\n",
              "      <td>402.217987</td>\n",
              "      <td>977.509399</td>\n",
              "      <td>728.164124</td>\n",
              "      <td>1235.371948</td>\n",
              "      <td>0.929688</td>\n",
              "      <td>0</td>\n",
              "      <td>content</td>\n",
              "    </tr>\n",
              "    <tr>\n",
              "      <th>3</th>\n",
              "      <td>404.520355</td>\n",
              "      <td>1258.395386</td>\n",
              "      <td>727.506287</td>\n",
              "      <td>1336.017212</td>\n",
              "      <td>0.915527</td>\n",
              "      <td>0</td>\n",
              "      <td>content</td>\n",
              "    </tr>\n",
              "  </tbody>\n",
              "</table>\n",
              "</div>"
            ],
            "text/plain": [
              "         xmin         ymin        xmax         ymax  confidence  class  \\\n",
              "0   76.765236   976.851624  395.968781  1249.186035    0.942871      0   \n",
              "1   78.491997  1268.262573  395.639862  1570.856323    0.941406      0   \n",
              "2  402.217987   977.509399  728.164124  1235.371948    0.929688      0   \n",
              "3  404.520355  1258.395386  727.506287  1336.017212    0.915527      0   \n",
              "\n",
              "      name  \n",
              "0  content  \n",
              "1  content  \n",
              "2  content  \n",
              "3  content  "
            ]
          },
          "metadata": {
            "tags": []
          },
          "execution_count": 8
        }
      ]
    },
    {
      "cell_type": "code",
      "metadata": {
        "colab": {
          "base_uri": "https://localhost:8080/"
        },
        "id": "oAy2n4dD70uM",
        "outputId": "f391ad7f-fcc8-4d0d-cda1-6c83205498c7"
      },
      "source": [
        "import cv2\n",
        "\n",
        "im_1 = cv2.imread('/content/Greencore-Group-plc-Annual-Report-and-Financial-Statements-2020_page-3.png')\n",
        "im_1.shape\n",
        "\n"
      ],
      "execution_count": null,
      "outputs": [
        {
          "output_type": "execute_result",
          "data": {
            "text/plain": [
              "(1684, 1134, 3)"
            ]
          },
          "metadata": {
            "tags": []
          },
          "execution_count": 7
        }
      ]
    },
    {
      "cell_type": "code",
      "metadata": {
        "id": "WYCjSti5w-1T"
      },
      "source": [
        "# extract results\n",
        "\n",
        "import cv2\n",
        "import pytesseract\n",
        "def transcribed(im):\n",
        "  image = cv2.imread(im)\n",
        "  results = model(im)\n",
        "  #results.print()  \n",
        "  #results.save()  # or .show()\n",
        "  results.xyxy[0]  # img1 predictions (tensor)\n",
        "  a = results.pandas().xyxy[0]\n",
        "  cc=[]\n",
        "  for i in range(len(a)):\n",
        "    y1=int(a['ymin'][i])\n",
        "    y2= int(a['ymax'][i])\n",
        "    x1=int(a['xmin'][i])\n",
        "    x2= int(a['xmax'][i])\n",
        "    im1= image.copy()\n",
        "    im2 = im1[y1:y2, x1:x2]\n",
        "    re_img = cv2.resize(im2, None, fx= 8, fy= 8)\n",
        "    b = pytesseract.image_to_string(re_img, config = r'--oem 3 --psm 6').strip().splitlines()\n",
        "    cc.append(b)\n",
        "  return(cc)\n"
      ],
      "execution_count": null,
      "outputs": []
    },
    {
      "cell_type": "code",
      "metadata": {
        "id": "alwK-NLDAa2W"
      },
      "source": [
        "# extract results\n",
        "\n",
        "import cv2\n",
        "#import pytesseract\n",
        "def transcribed_pdf(im):\n",
        "  image = cv2.imread(im)\n",
        "  results = model(im)\n",
        "  #results.print()  \n",
        "  #results.save()  # or .show()\n",
        "  results.xyxy[0]  # img1 predictions (tensor)\n",
        "  a = results.pandas().xyxy[0]\n",
        "  cc=[]\n",
        "  for i in range(len(a)):\n",
        "    y1=a['ymin'][i]\n",
        "    y2= a['ymax'][i]\n",
        "    x1=a['xmin'][i]\n",
        "    x2= a['xmax'][i]\n",
        "    b = [x1, y1, x2, y2]\n",
        "    cc.append(b)\n",
        "  return(cc)\n"
      ],
      "execution_count": null,
      "outputs": []
    },
    {
      "cell_type": "code",
      "metadata": {
        "colab": {
          "base_uri": "https://localhost:8080/"
        },
        "id": "E6U6LXM8AvWI",
        "outputId": "8b769d7b-49f3-442e-f222-295fe0709eca"
      },
      "source": [
        "im= '/content/Greencore-Group-plc-Annual-Report-and-Financial-Statements-2020_page-3.png'\n",
        "transcribed_pdf(im)"
      ],
      "execution_count": null,
      "outputs": [
        {
          "output_type": "execute_result",
          "data": {
            "text/plain": [
              "[[76.7652359008789, 976.8516235351562, 395.9687805175781, 1249.18603515625],\n",
              " [78.49199676513672,\n",
              "  1268.2625732421875,\n",
              "  395.6398620605469,\n",
              "  1570.8563232421875],\n",
              " [402.2179870605469, 977.5093994140625, 728.1641235351562, 1235.3719482421875],\n",
              " [404.5203552246094,\n",
              "  1258.3953857421875,\n",
              "  727.5062866210938,\n",
              "  1336.0172119140625]]"
            ]
          },
          "metadata": {
            "tags": []
          },
          "execution_count": 20
        }
      ]
    },
    {
      "cell_type": "code",
      "metadata": {
        "id": "LUA4Uuup1Mgs"
      },
      "source": [
        "abc= transcribed('/content/Capture2.PNG')"
      ],
      "execution_count": null,
      "outputs": []
    },
    {
      "cell_type": "code",
      "metadata": {
        "colab": {
          "base_uri": "https://localhost:8080/"
        },
        "id": "Q0T9W6bt1fzS",
        "outputId": "82cb8de0-197a-4e47-e712-a361af78bb3e"
      },
      "source": [
        "len(abc)"
      ],
      "execution_count": null,
      "outputs": [
        {
          "output_type": "execute_result",
          "data": {
            "text/plain": [
              "5"
            ]
          },
          "metadata": {
            "tags": []
          },
          "execution_count": 20
        }
      ]
    },
    {
      "cell_type": "code",
      "metadata": {
        "colab": {
          "base_uri": "https://localhost:8080/"
        },
        "id": "j-617Ae32nLW",
        "outputId": "d5f92876-5bcc-4c74-bcb5-04fe2dbc9b50"
      },
      "source": [
        "abc[4]"
      ],
      "execution_count": null,
      "outputs": [
        {
          "output_type": "execute_result",
          "data": {
            "text/plain": [
              "['Ow view', 'Al 0Gerne', '2 pinGutuesee']"
            ]
          },
          "metadata": {
            "tags": []
          },
          "execution_count": 25
        }
      ]
    },
    {
      "cell_type": "code",
      "metadata": {
        "colab": {
          "base_uri": "https://localhost:8080/"
        },
        "id": "mWf0tjvs2ogM",
        "outputId": "1a67d1df-0aa4-484d-a32c-5cecb81a9fd8"
      },
      "source": [
        "abc[1]"
      ],
      "execution_count": null,
      "outputs": [
        {
          "output_type": "execute_result",
          "data": {
            "text/plain": [
              "['FINANCIAL STATEMENTS',\n",
              " '',\n",
              " 'Directors’ responsibilities 107',\n",
              " 'Independent auditor’s report 108',\n",
              " 'Financial statements 118',\n",
              " 'Notes to the accounts 123',\n",
              " 'Other information 175',\n",
              " 'Board and advisers 184',\n",
              " 'Glossary 185',\n",
              " 'Shareholder information 188']"
            ]
          },
          "metadata": {
            "tags": []
          },
          "execution_count": 11
        }
      ]
    },
    {
      "cell_type": "code",
      "metadata": {
        "colab": {
          "base_uri": "https://localhost:8080/"
        },
        "id": "s_He1BZh2zY7",
        "outputId": "fa235e2c-2a82-4e8a-e393-bbb84cb3909a"
      },
      "source": [
        "abc[2]"
      ],
      "execution_count": null,
      "outputs": [
        {
          "output_type": "execute_result",
          "data": {
            "text/plain": [
              "['GOVERNANCE',\n",
              " '',\n",
              " 'Board of Directors 74',\n",
              " 'Corporate governance report 76',\n",
              " 'Audit Committee report 83',\n",
              " 'Nomination Committee report 87',\n",
              " 'Directors’ Remuneration report 90',\n",
              " 'Directors’ report 105']"
            ]
          },
          "metadata": {
            "tags": []
          },
          "execution_count": 12
        }
      ]
    },
    {
      "cell_type": "code",
      "metadata": {
        "colab": {
          "base_uri": "https://localhost:8080/"
        },
        "id": "-xbHajCwA3M0",
        "outputId": "dcae2e15-6664-4336-9d84-bf7a3df45fc7"
      },
      "source": [
        "######## pdf extraction ########\n",
        "\n",
        "################# path to 2020 cgt data\n",
        "import os\n",
        "path='/content/gdrive/MyDrive/content_page_segmentation/2021_content_images'\n",
        "file=[]\n",
        "group=[]\n",
        "text=[]\n",
        "\n",
        "for f in os.listdir(path):\n",
        "  print(f)\n",
        "  abc = transcribed_pdf(os.path.join(path, f))\n",
        "  if abc:\n",
        "    for i in range(len(abc)):\n",
        "      file.append(f)\n",
        "      group.append(i)\n",
        "      text.append(abc[i])\n",
        "\n"
      ],
      "execution_count": null,
      "outputs": [
        {
          "output_type": "stream",
          "text": [
            "3i infrastructure ar 2021_page-1.png\n",
            "4imprint Group AR 2020_page-1.png\n",
            "888 Holdings Annual Report_page-2.png\n",
            "91-ninety-one-integrated-annual-report-2021_page-2.png\n",
            "Aggreko PLC annual report 2020_page-1.png\n",
            "Admiral Group Plc Annual Report 2020_page-2.png\n",
            "Airtel Africa Annual Report 2021_page-1.png\n",
            "Anglo American PLC AR 2020_page-2.png\n",
            "AJ_Bell PLC Annual Report 2020_page-1.png\n",
            "antofagasta_2020_annual_report_page-1.png\n",
            "Associated British Foods PLC AR 2020_page-4.png\n",
            "Ashmore Group PLC Annual Report 2020_page-1.png\n",
            "Ascential PLC Annual Report 2020_page-1.png\n",
            "Assura AnnualReport2021final_page-4.png\n",
            "Aston-Martin-Lagonda-2020-Annual-Report-v2_page-1.png\n",
            "AstraZeneca_AR_2020_page-2.png\n",
            "Auto Trader  plc ar2021-web_page-1.png\n",
            "Aveva AR 2021_page-1.png\n",
            "Avast PLC Annual report 2020_page-1.png\n",
            "aviva-plc-annual-report-and-accounts-2020_page-1.png\n",
            "avon-rubber-annual-report-2020_page-1.png\n",
            "B&MFull_Annual_Report_and_Accounts_2021_page-2.png\n",
            "BAE Systems PLC AR 2020_page-1.png\n",
            "Barratt Developments P L C AR 2020_page-2.png\n",
            "Balfour Beatty PLC Annual Report 2020_page-4.png\n",
            "Barclays PLC AR 2020_page-2.png\n",
            "bellway_ar20_web_page-1.png\n",
            "Beazley PLC Annual Report-2020_page-1.png\n",
            "Biffa Annual Report and Accounts FY21 Final_page-1.png\n",
            "BHP Group PLC AR 2020_page-4.png\n",
            "Big Yellow_AR21_Annual_report_and_accounts_2021_page-1.png\n",
            "Bodycote PLC Annual-report-2020_page-1.png\n",
            "BP PLC AR 2020_page-2.png\n",
            "Brewin Dolphin Holdings annual-report-2020_page-1.png\n",
            "British Land Company plc AR 2021_page-1.png\n",
            "British American Tobacco P.L.C. AR 2020_page-4.png\n",
            "bt-annual-report 2021_page-4.png\n",
            "Britvic PLC Annual Report 2020_page-1.png\n",
            "Bunzl PLC annual report 2020_page-3.png\n",
            "Burberry_2020-21_Annual_Report_page-2.png\n",
            "Bytes Technology Group plc AR 2021_page-2.png\n",
            "C&C Group plc annual report 2021_page-2.png\n",
            "cairn-ar2020_page-2.png\n",
            "CandC Annual Report 2021_page-2.png\n",
            "Centamin PLC Annual Report 2020_page-1.png\n",
            "Carnival PLC Annual Report 2020_page-1.png\n",
            "Capital & Counties Properties PLC Annual Report 2020_page-1.png\n",
            "Capita PLC annual report 2020_page-2.png\n",
            "Clarkson annual_report_2020_page-1.png\n",
            "chemring-plc-annual-report-2020_page-1.png\n",
            "Cineworld Group PLC Annual Report 2020_page-2.png\n",
            "centrica-ar2020_page-1.png\n",
            "Close Brothers Group PLC Annual report 2020_page-1.png\n",
            "CLS Annual Report - 31 Dec 2020_page-2.png\n",
            "Coca-Cola HBC AG AR 2020_page-3.png\n",
            "CMC AR 2021_page-2.png\n",
            "Coats Group AR 2020_page-1.png\n",
            "Computacenter PLC annual report 2020_page-4.png\n",
            "CompassGroupPLC_AnnualReport2020_FINAL_page-1.png\n",
            "Contourglobal 2020_annual_report_page-2.png\n",
            "ConvaTec Group PLC Annual Report 2020_page-1.png\n",
            "Crainswick 35913 AR2021 Spreads WEB_page-2.png\n",
            "Countryside_Properties_PLC_Annual_report_2020_page-2.png\n",
            "crest-nicholson-annual-integrated-report-2020_page-1.png\n",
            "Croda International PLC Annual Report  2020_page-1.png\n",
            "crh-annual-report-2020_page-1.png\n",
            "Dechra Pharmaceuticals PLC Annual report 2020_page-1.png\n",
            "DCC Annual Report 2021_page-2.png\n",
            "Derwent London PLC Annual report 2020_page-1.png\n",
            "Direct Line PLC Annual report 2020_page-1.png\n",
            "Diageo PLC AR 2020_page-1.png\n",
            "Diploma PLC Annual Report 2020_page-4.png\n",
            "Dr._Martens_plc_Annual_Report_2021_page-2.png\n",
            "Diversified Energy plc_2021_Annual_Report_page-1.png\n",
            "Dominos pizza 2020-annual-report_page-1.png\n",
            "Drax_AR2020_page-2.png\n",
            "Easyjet PLC Annual Report 2020_page-1.png\n",
            "Dunelm Group Plc annual-report-2020_page-2.png\n",
            "Elementis 2020 Annual Report and Accounts_page-1.png\n",
            "electrocomponents aR 2021_page-1.png\n",
            "energean-2020-annual-report_page-3.png\n",
            "Equiniti annual-report-2020_page-2.png\n",
            "essentra-ar-2020-_page-1.png\n",
            "Euromoney Institutional Investor annual-report-2020_page-1.png\n",
            "Evraz PLC Annual report 2020_page-2.png\n",
            "experian AR 2021_page-1.png\n",
            "FDM-Annual-Report-2020_page-1.png\n",
            "Ferguson-plc-Annual-Report-2020_page-1.png\n",
            "Flutter Entertainment PLC Annual Report 2020_page-4.png\n",
            "ferrexpo-plc-ara-2020_page-2.png\n",
            "Future plc ar 2020_page-2.png\n",
            "Fresnillo PLC Annual Report 2020_page-1.png\n",
            "G4S PLC Annual report 2020_page-1.png\n",
            "gamesys-annual-report-and-accounts-2020_page-2.png\n",
            "Genuit Polypile AR 2020 2021_page-1.png\n",
            "Glaxosmithkline PLC AR 2020_page-1.png\n",
            "Genus PLC  Annual report 2020_page-2.png\n",
            "Glencore_AR20_Interactive_page-3.png\n",
            "Grafton Group PLC Annual Report 2020_page-2.png\n",
            "Grainger PLC Annual report 2020_page-1.png\n",
            "Great Portland Estates-ar2021_bookmarked_page-2.png\n",
            "Greencore-Group-plc-Annual-Report-and-Financial-Statements-2020_page-3.png\n",
            "Greggs PLC Annual Report 2020_page-2.png\n",
            "halma-ara-2021_page-2.png\n",
            "Hammerson PLC Annual Report 2020_page-1.png\n",
            "Hays PLC Annual Report 2020_page-4.png\n",
            "Hargreaves Lansdown PLC AR 2020_page-2.png\n",
            "HG Capital annual-report-and-accounts-2020 2021_page-2.png\n",
            "helios towers-annual-report-2020_page-2.png\n",
            "Hill & Smith annual-report-2020_page-2.png\n",
            "Hiscox Ltd Annual Report 2020_page-2.png\n",
            "Hikma Pharmaceuticals PLC Annual report 2020_page-1.png\n",
            "Hilton Food Group annual-report-2020_page-1.png\n",
            "Hochschild-AR2020-Single-Pages_page-2.png\n",
            "homeserve plc AR 2021_page-2.png\n",
            "HSBC Holdings PLC AR 2020_page-1.png\n",
            "Howden Joinery Group PLC Annual Report 2020_page-1.png\n",
            "Ibstock-annual-report-2020_page-2.png\n",
            "IMI PLC Annual Report 2020_page-2.png\n",
            "informa-annual-report--financial-statements-2020_page-1.png\n",
            "Imperial Brands PLC AR 2020_page-1.png\n",
            "INDIVIOR -2020-Annual-Report_Web_page-1.png\n",
            "IntegraFin Holding PLC Annual Report 2020_page-4.png\n",
            "Intercontinental Hotels Group PLC AR 2020_page-2.png\n",
            "International Consolidated Airlines Group AR 2020_page-2.png\n",
            "Investec-Volume-3-Annual-Report-2021-Online_page-2.png\n",
            "Intermediate Capital Group plc annual report 2021_page-1.png\n",
            "Investec-Volume-1-Annual-Report-2021-Online_page-2.png\n",
            "Intertek_Group_plc_Annual_Report_2020_page-2.png\n",
            "IP Group AR 2020_page-2.png\n",
            "JD Sports annual-report-2021_page-1.png\n",
            "JD Sports Fashion plc annual report 2021_page-1.png\n",
            "IWG PLC Annual Report 2020_page-1.png\n",
            "ITV PLC annual-report-2020_page-2.png\n",
            "John Wood Group PLC Annual Report 2020_page-1.png\n",
            "John Laing Group PLC Annual Report 2020_page-1.png\n",
            "Johnson Matthey plc annual report 2021_page-1.png\n",
            "JTC Full_Annual_Report_2020-21_page-1.png\n",
            "Just Group AR 2020_page-1.png\n",
            "KAZ Minerals PLC annual report 2020_page-2.png\n",
            "Kingfisher plc 2020-21 AR_page-1.png\n",
            "Jupiter Fund Management Annual Report 2020_page-1.png\n",
            "Lancashire_2020_Annual_Report_210301_page-1.png\n",
            "Land Securities Group plc ar 2021_page-1.png\n",
            "Legal & General Group PLC AR 2020_page-2.png\n",
            "LSEG Annual Report 2020_page-2.png\n",
            "Lloyds Banking Group PLC AR 2020_page-1.png\n",
            "M&G Plc Annual Report 2020_page-2.png\n",
            "Man Group PLC Annual Report 2020_page-1.png\n",
            "Marshalls-plc-Annual-Report-and-Accounts-2020_page-2.png\n",
            "Marks and Spencer Group plc ar 2021_page-2.png\n",
            "Meggitt-AR-2020-Web-PDF_page-3.png\n",
            "melrose-annual-report-and-accounts-2020_page-1.png\n",
            "Mediclinic International plc 2021 Annual Report_page-1.png\n",
            "Micro Focus International PLC Annual Report 2020_page-1.png\n",
            "Mitchells & Butlers PLC Annual report 2020_page-3.png\n",
            "mondi_integrated-report-2020_page-1.png\n",
            "Moneysupermarket com Group Annual Report-2020_page-1.png\n",
            "morgan-ar2020_page-1.png\n",
            "Morgan_Sindall_Interactive-AR2020-21_page-1.png\n",
            "Morrisons (WM) Supermarkets plc AR 20 to 21_page-2.png\n",
            "National Express Group PLC Annual Report 2020_page-2.png\n",
            "NATIONAL GRID Full Report_Interactive_v2 2020-21_page-3.png\n",
            "Network International Holding PLC Annual Report 2020_page-1.png\n",
            "Next AR 2021_page-1.png\n",
            "Next PLC AR 2020_page-1.png\n",
            "natwest-group-annual-report-accounts-2020-21_page-1.png\n",
            "Ocado Group-Annual Report 2020_page-1.png\n",
            "Page Group PLC Annual Report 2020_page-1.png\n",
            "Onesavings Bank PLC Annual Report 2020_page-1.png\n",
            "OXFORD BIOMEDICA AR_2020-21_page-1.png\n",
            "ParagonBankingGroup_AR_2020_page-3.png\n",
            "Pearson PLC Annual Report 2020_page-1.png\n",
            "Pennon Group plc AR 2021_page-4.png\n",
            "Pershing-Square-Holdings-Ltd.-2020-Annual-Report-1_page-1.png\n",
            "persimmon_ar2020_web_bmarks-final_page-1.png\n",
            "Phoenix Group Holdings Annual report 2020_page-1.png\n",
            "Pets at Home Group plc AR 2021_page-1.png\n",
            "Plus500_Annual_Report_20_page-2.png\n",
            "Playtech annual-report-2020_page-2.png\n",
            "Polymetal_Annual_Report_2020_page-1.png\n",
            "Polypipe_-AR-2020_-Interactive-19Apr21_page-1.png\n",
            "Premier_Foods_AR2021_page-1.png\n",
            "Primary-Health-Properties-PLC-Annual-Report-2020_page-1.png\n",
            "Provident_Financial_plc_Annual_Report_and_Financial_Statements_2020_002_page-2.png\n",
            "prudential-plc-ar-2020_page-1.png\n",
            "PureTech Health AR 2020_page-1.png\n",
            "Qinetiq Group plc AR 2021_page-2.png\n",
            "Rank Group Annual Report and Financial Statements Dec 2020_page-1.png\n",
            "rathbone_brothers_plc_report_and_accounts_2020_page-1.png\n",
            "Reckitt Benckiser Group PLC AR 2020_page-1.png\n",
            "Redrow PLC annual report 2020_page-1.png\n",
            "Relx PLC AR 2020_page-2.png\n",
            "rentokil-initial-annual-report-2020_page-2.png\n",
            "Renishaw PLC Annual Report 2020_page-2.png\n",
            "RHI Magnesita NV annual-report-2020_page-1.png\n",
            "Rightmove PLC Annual_Report 2020_page-1.png\n",
            "Rolls-Royce Holdings PLC AR 2020_page-2.png\n",
            "Rio Tinto PLC AR 2020_page-3.png\n",
            "Rotork PLC Annual Report 2020_page-2.png\n",
            "Royal Dutch Shell PLC AR 2020_page-1.png\n",
            "RSA Insurance Group PLC Annual Report 2020_page-2.png\n",
            "Sabre Insurance 2020-annual-report-and-accounts_page-2.png\n",
            "Royal Mail Group_ar2020-21_page-1.png\n",
            "Safestore Holdings PLC Annual report 2020_page-1.png\n",
            "sainsburys ar2021_page-2.png\n",
            "Saint James Place-annual-report-and-accounts-2020_April2021_page-2.png\n",
            "schroders-annual-report-and-accounts-2020_page-1.png\n",
            "sanne-group-plc-annual-report-2020_page-1.png\n",
            "Savills PLC Annual Report 2020_page-2.png\n",
            "Segro Public Limited Company AR 2020_page-1.png\n",
            "Serco Group PLC Annual report 2020_page-1.png\n",
            "Severn Trent-annual-report-2021_page-2.png\n",
            "Shaftesbury Annual Report 2020_page-1.png\n",
            "smith nephew_annual report 2020_interactive_page-1.png\n",
            "Smiths Group PLC annual report 2020_page-4.png\n",
            "Smurfit_Kappa_Annual_Report_2020_page-2.png\n",
            "Softcat PLC Annual Report 2020_page-1.png\n",
            "Spirax-Sarco S2020-annual-report_page-2.png\n",
            "Spectris PLC annual report 2020_page-2.png\n",
            "Spirent-Communications-plc-Annual-Report-2020_page-1.png\n",
            "SSE AR 2021_page-2.png\n",
            "SSP Group PLC annual report 2020_page-1.png\n",
            "Standard Life Aberdeen PLC AR 2020_page-1.png\n",
            "St Modwen Properties annual-report2020_page-2.png\n",
            "standard-chartered-plc-full-year-2020-report_page-1.png\n",
            "Synthomer_AR2020_page-2.png\n",
            "Tate & Lyle plc ar 2021_page-1.png\n",
            "Taylor Wimpey PLC AR 2020_page-1.png\n",
            "tbc bank AR 2020_page-4.png\n",
            "Telecoms pluc plc-annual-report-2021-rgb-2-_page-1.png\n",
            "Tesco AR 2021_page-1.png\n",
            "The Sage Group Plc. AR 2020_page-1.png\n",
            "Trainline_AR2021_page-1.png\n",
            "TP ICAP PLC Annual Report 2020_page-3.png\n",
            "TI Fluid Systems 2020-annual-report_page-1.png\n",
            "Travis Perkins PLC annual-report-2020_page-3.png\n",
            "Tullow_Oil_plc_2020-21_Annual_Report_and_Accounts_page-2.png\n",
            "Unilever PLC AR 2020_page-2.png\n",
            "udg-annual-report-2020-web_page-2.png\n",
            "UK Commercial Property Trust AR 2020_page-2.png\n",
            "Unite Group PLC Annual Report 2020_page-2.png\n",
            "United Utilities Group plc ar 2021_page-2.png\n",
            "Vesuvius_AR20_page-1.png\n",
            "Vectura-Group-plc-Annual-Report-and-Accounts-2020-21_page-2.png\n",
            "Victrex PLC Annual-Report 2020_page-2.png\n",
            "Virgin Money UK plc Full_Annual_Report_2020_page-2.png\n",
            "Vistry Group PLC Annual report 2020_page-2.png\n",
            "vivo-energy-annual-report-and-accounts-2020_page-2.png\n",
            "vodafone AR 2021_page-1.png\n",
            "Weir Group PLC Annual-report 2020_page-1.png\n",
            "Whitbread_AR2020-1_web-1_page-1.png\n",
            "WHSmith PLC Annual Report 2020_page-2.png\n",
            "William Hill PLC Annual Report 2020_page-1.png\n",
            "Wizz Air Holdings plc ar 2021_page-1.png\n",
            "wppannualreport2020_page-2.png\n",
            "Workspace Group_AR21_page-1.png\n",
            "XP Power AR 2020-21_page-2.png\n"
          ],
          "name": "stdout"
        }
      ]
    },
    {
      "cell_type": "code",
      "metadata": {
        "colab": {
          "base_uri": "https://localhost:8080/"
        },
        "id": "ljHZUne221BJ",
        "outputId": "02293306-e760-414c-f773-c706a8b39a73"
      },
      "source": [
        "################# path to 2020 cgt data\n",
        "import os\n",
        "path='/content/gdrive/MyDrive/content_page_segmentation/2021_content_images'\n",
        "file=[]\n",
        "group=[]\n",
        "text=[]\n",
        "\n",
        "for f in os.listdir(path):\n",
        "  print(f)\n",
        "  abc = transcribed(os.path.join(path, f))\n",
        "  if abc:\n",
        "    for i in range(len(abc)):\n",
        "      file.append(f)\n",
        "      group.append(i)\n",
        "      text.append(abc[i])\n",
        "\n"
      ],
      "execution_count": null,
      "outputs": [
        {
          "output_type": "stream",
          "text": [
            "3i infrastructure ar 2021_page-1.png\n",
            "4imprint Group AR 2020_page-1.png\n",
            "888 Holdings Annual Report_page-2.png\n",
            "91-ninety-one-integrated-annual-report-2021_page-2.png\n",
            "Aggreko PLC annual report 2020_page-1.png\n",
            "Admiral Group Plc Annual Report 2020_page-2.png\n",
            "Airtel Africa Annual Report 2021_page-1.png\n",
            "Anglo American PLC AR 2020_page-2.png\n",
            "AJ_Bell PLC Annual Report 2020_page-1.png\n",
            "antofagasta_2020_annual_report_page-1.png\n",
            "Associated British Foods PLC AR 2020_page-4.png\n",
            "Ashmore Group PLC Annual Report 2020_page-1.png\n",
            "Ascential PLC Annual Report 2020_page-1.png\n",
            "Assura AnnualReport2021final_page-4.png\n",
            "Aston-Martin-Lagonda-2020-Annual-Report-v2_page-1.png\n",
            "AstraZeneca_AR_2020_page-2.png\n",
            "Auto Trader  plc ar2021-web_page-1.png\n",
            "Aveva AR 2021_page-1.png\n",
            "Avast PLC Annual report 2020_page-1.png\n",
            "aviva-plc-annual-report-and-accounts-2020_page-1.png\n",
            "avon-rubber-annual-report-2020_page-1.png\n",
            "B&MFull_Annual_Report_and_Accounts_2021_page-2.png\n",
            "BAE Systems PLC AR 2020_page-1.png\n",
            "Barratt Developments P L C AR 2020_page-2.png\n",
            "Balfour Beatty PLC Annual Report 2020_page-4.png\n",
            "Barclays PLC AR 2020_page-2.png\n",
            "bellway_ar20_web_page-1.png\n",
            "Beazley PLC Annual Report-2020_page-1.png\n",
            "Biffa Annual Report and Accounts FY21 Final_page-1.png\n",
            "BHP Group PLC AR 2020_page-4.png\n",
            "Big Yellow_AR21_Annual_report_and_accounts_2021_page-1.png\n",
            "Bodycote PLC Annual-report-2020_page-1.png\n",
            "BP PLC AR 2020_page-2.png\n",
            "Brewin Dolphin Holdings annual-report-2020_page-1.png\n",
            "British Land Company plc AR 2021_page-1.png\n",
            "British American Tobacco P.L.C. AR 2020_page-4.png\n",
            "bt-annual-report 2021_page-4.png\n",
            "Britvic PLC Annual Report 2020_page-1.png\n",
            "Bunzl PLC annual report 2020_page-3.png\n",
            "Burberry_2020-21_Annual_Report_page-2.png\n",
            "Bytes Technology Group plc AR 2021_page-2.png\n",
            "C&C Group plc annual report 2021_page-2.png\n",
            "cairn-ar2020_page-2.png\n",
            "CandC Annual Report 2021_page-2.png\n",
            "Centamin PLC Annual Report 2020_page-1.png\n",
            "Carnival PLC Annual Report 2020_page-1.png\n",
            "Capital & Counties Properties PLC Annual Report 2020_page-1.png\n",
            "Capita PLC annual report 2020_page-2.png\n",
            "Clarkson annual_report_2020_page-1.png\n",
            "chemring-plc-annual-report-2020_page-1.png\n",
            "Cineworld Group PLC Annual Report 2020_page-2.png\n",
            "centrica-ar2020_page-1.png\n",
            "Close Brothers Group PLC Annual report 2020_page-1.png\n",
            "CLS Annual Report - 31 Dec 2020_page-2.png\n",
            "Coca-Cola HBC AG AR 2020_page-3.png\n",
            "CMC AR 2021_page-2.png\n",
            "Coats Group AR 2020_page-1.png\n",
            "Computacenter PLC annual report 2020_page-4.png\n",
            "CompassGroupPLC_AnnualReport2020_FINAL_page-1.png\n",
            "Contourglobal 2020_annual_report_page-2.png\n",
            "ConvaTec Group PLC Annual Report 2020_page-1.png\n",
            "Crainswick 35913 AR2021 Spreads WEB_page-2.png\n",
            "Countryside_Properties_PLC_Annual_report_2020_page-2.png\n",
            "crest-nicholson-annual-integrated-report-2020_page-1.png\n",
            "Croda International PLC Annual Report  2020_page-1.png\n",
            "crh-annual-report-2020_page-1.png\n",
            "Dechra Pharmaceuticals PLC Annual report 2020_page-1.png\n",
            "DCC Annual Report 2021_page-2.png\n",
            "Derwent London PLC Annual report 2020_page-1.png\n",
            "Direct Line PLC Annual report 2020_page-1.png\n",
            "Diageo PLC AR 2020_page-1.png\n",
            "Diploma PLC Annual Report 2020_page-4.png\n",
            "Dr._Martens_plc_Annual_Report_2021_page-2.png\n",
            "Diversified Energy plc_2021_Annual_Report_page-1.png\n",
            "Dominos pizza 2020-annual-report_page-1.png\n",
            "Drax_AR2020_page-2.png\n",
            "Easyjet PLC Annual Report 2020_page-1.png\n",
            "Dunelm Group Plc annual-report-2020_page-2.png\n",
            "Elementis 2020 Annual Report and Accounts_page-1.png\n",
            "electrocomponents aR 2021_page-1.png\n",
            "energean-2020-annual-report_page-3.png\n",
            "Equiniti annual-report-2020_page-2.png\n",
            "essentra-ar-2020-_page-1.png\n",
            "Euromoney Institutional Investor annual-report-2020_page-1.png\n",
            "Evraz PLC Annual report 2020_page-2.png\n",
            "experian AR 2021_page-1.png\n",
            "FDM-Annual-Report-2020_page-1.png\n",
            "Ferguson-plc-Annual-Report-2020_page-1.png\n",
            "Flutter Entertainment PLC Annual Report 2020_page-4.png\n",
            "ferrexpo-plc-ara-2020_page-2.png\n",
            "Future plc ar 2020_page-2.png\n",
            "Fresnillo PLC Annual Report 2020_page-1.png\n",
            "G4S PLC Annual report 2020_page-1.png\n",
            "gamesys-annual-report-and-accounts-2020_page-2.png\n",
            "Genuit Polypile AR 2020 2021_page-1.png\n",
            "Glaxosmithkline PLC AR 2020_page-1.png\n",
            "Genus PLC  Annual report 2020_page-2.png\n",
            "Glencore_AR20_Interactive_page-3.png\n",
            "Grafton Group PLC Annual Report 2020_page-2.png\n",
            "Grainger PLC Annual report 2020_page-1.png\n",
            "Great Portland Estates-ar2021_bookmarked_page-2.png\n",
            "Greencore-Group-plc-Annual-Report-and-Financial-Statements-2020_page-3.png\n",
            "Greggs PLC Annual Report 2020_page-2.png\n",
            "halma-ara-2021_page-2.png\n",
            "Hammerson PLC Annual Report 2020_page-1.png\n",
            "Hays PLC Annual Report 2020_page-4.png\n",
            "Hargreaves Lansdown PLC AR 2020_page-2.png\n",
            "HG Capital annual-report-and-accounts-2020 2021_page-2.png\n",
            "helios towers-annual-report-2020_page-2.png\n",
            "Hill & Smith annual-report-2020_page-2.png\n",
            "Hiscox Ltd Annual Report 2020_page-2.png\n",
            "Hikma Pharmaceuticals PLC Annual report 2020_page-1.png\n",
            "Hilton Food Group annual-report-2020_page-1.png\n",
            "Hochschild-AR2020-Single-Pages_page-2.png\n",
            "homeserve plc AR 2021_page-2.png\n",
            "HSBC Holdings PLC AR 2020_page-1.png\n",
            "Howden Joinery Group PLC Annual Report 2020_page-1.png\n",
            "Ibstock-annual-report-2020_page-2.png\n",
            "IMI PLC Annual Report 2020_page-2.png\n",
            "informa-annual-report--financial-statements-2020_page-1.png\n",
            "Imperial Brands PLC AR 2020_page-1.png\n",
            "INDIVIOR -2020-Annual-Report_Web_page-1.png\n",
            "IntegraFin Holding PLC Annual Report 2020_page-4.png\n",
            "Intercontinental Hotels Group PLC AR 2020_page-2.png\n",
            "International Consolidated Airlines Group AR 2020_page-2.png\n",
            "Investec-Volume-3-Annual-Report-2021-Online_page-2.png\n",
            "Intermediate Capital Group plc annual report 2021_page-1.png\n",
            "Investec-Volume-1-Annual-Report-2021-Online_page-2.png\n",
            "Intertek_Group_plc_Annual_Report_2020_page-2.png\n",
            "IP Group AR 2020_page-2.png\n",
            "JD Sports annual-report-2021_page-1.png\n",
            "JD Sports Fashion plc annual report 2021_page-1.png\n",
            "IWG PLC Annual Report 2020_page-1.png\n",
            "ITV PLC annual-report-2020_page-2.png\n",
            "John Wood Group PLC Annual Report 2020_page-1.png\n",
            "John Laing Group PLC Annual Report 2020_page-1.png\n",
            "Johnson Matthey plc annual report 2021_page-1.png\n",
            "JTC Full_Annual_Report_2020-21_page-1.png\n",
            "Just Group AR 2020_page-1.png\n",
            "KAZ Minerals PLC annual report 2020_page-2.png\n",
            "Kingfisher plc 2020-21 AR_page-1.png\n",
            "Jupiter Fund Management Annual Report 2020_page-1.png\n",
            "Lancashire_2020_Annual_Report_210301_page-1.png\n",
            "Land Securities Group plc ar 2021_page-1.png\n",
            "Legal & General Group PLC AR 2020_page-2.png\n",
            "LSEG Annual Report 2020_page-2.png\n",
            "Lloyds Banking Group PLC AR 2020_page-1.png\n",
            "M&G Plc Annual Report 2020_page-2.png\n",
            "Man Group PLC Annual Report 2020_page-1.png\n",
            "Marshalls-plc-Annual-Report-and-Accounts-2020_page-2.png\n",
            "Marks and Spencer Group plc ar 2021_page-2.png\n",
            "Meggitt-AR-2020-Web-PDF_page-3.png\n",
            "melrose-annual-report-and-accounts-2020_page-1.png\n",
            "Mediclinic International plc 2021 Annual Report_page-1.png\n",
            "Micro Focus International PLC Annual Report 2020_page-1.png\n",
            "Mitchells & Butlers PLC Annual report 2020_page-3.png\n",
            "mondi_integrated-report-2020_page-1.png\n",
            "Moneysupermarket com Group Annual Report-2020_page-1.png\n",
            "morgan-ar2020_page-1.png\n",
            "Morgan_Sindall_Interactive-AR2020-21_page-1.png\n",
            "Morrisons (WM) Supermarkets plc AR 20 to 21_page-2.png\n",
            "National Express Group PLC Annual Report 2020_page-2.png\n",
            "NATIONAL GRID Full Report_Interactive_v2 2020-21_page-3.png\n",
            "Network International Holding PLC Annual Report 2020_page-1.png\n",
            "Next AR 2021_page-1.png\n",
            "Next PLC AR 2020_page-1.png\n",
            "natwest-group-annual-report-accounts-2020-21_page-1.png\n",
            "Ocado Group-Annual Report 2020_page-1.png\n",
            "Page Group PLC Annual Report 2020_page-1.png\n",
            "Onesavings Bank PLC Annual Report 2020_page-1.png\n",
            "OXFORD BIOMEDICA AR_2020-21_page-1.png\n",
            "ParagonBankingGroup_AR_2020_page-3.png\n",
            "Pearson PLC Annual Report 2020_page-1.png\n",
            "Pennon Group plc AR 2021_page-4.png\n",
            "Pershing-Square-Holdings-Ltd.-2020-Annual-Report-1_page-1.png\n",
            "persimmon_ar2020_web_bmarks-final_page-1.png\n",
            "Phoenix Group Holdings Annual report 2020_page-1.png\n",
            "Pets at Home Group plc AR 2021_page-1.png\n",
            "Plus500_Annual_Report_20_page-2.png\n",
            "Playtech annual-report-2020_page-2.png\n",
            "Polymetal_Annual_Report_2020_page-1.png\n",
            "Polypipe_-AR-2020_-Interactive-19Apr21_page-1.png\n",
            "Premier_Foods_AR2021_page-1.png\n",
            "Primary-Health-Properties-PLC-Annual-Report-2020_page-1.png\n",
            "Provident_Financial_plc_Annual_Report_and_Financial_Statements_2020_002_page-2.png\n",
            "prudential-plc-ar-2020_page-1.png\n",
            "PureTech Health AR 2020_page-1.png\n",
            "Qinetiq Group plc AR 2021_page-2.png\n",
            "Rank Group Annual Report and Financial Statements Dec 2020_page-1.png\n",
            "rathbone_brothers_plc_report_and_accounts_2020_page-1.png\n",
            "Reckitt Benckiser Group PLC AR 2020_page-1.png\n",
            "Redrow PLC annual report 2020_page-1.png\n",
            "Relx PLC AR 2020_page-2.png\n",
            "rentokil-initial-annual-report-2020_page-2.png\n",
            "Renishaw PLC Annual Report 2020_page-2.png\n",
            "RHI Magnesita NV annual-report-2020_page-1.png\n",
            "Rightmove PLC Annual_Report 2020_page-1.png\n",
            "Rolls-Royce Holdings PLC AR 2020_page-2.png\n",
            "Rio Tinto PLC AR 2020_page-3.png\n",
            "Rotork PLC Annual Report 2020_page-2.png\n",
            "Royal Dutch Shell PLC AR 2020_page-1.png\n",
            "RSA Insurance Group PLC Annual Report 2020_page-2.png\n",
            "Sabre Insurance 2020-annual-report-and-accounts_page-2.png\n",
            "Royal Mail Group_ar2020-21_page-1.png\n",
            "Safestore Holdings PLC Annual report 2020_page-1.png\n",
            "sainsburys ar2021_page-2.png\n",
            "Saint James Place-annual-report-and-accounts-2020_April2021_page-2.png\n",
            "schroders-annual-report-and-accounts-2020_page-1.png\n",
            "sanne-group-plc-annual-report-2020_page-1.png\n",
            "Savills PLC Annual Report 2020_page-2.png\n",
            "Segro Public Limited Company AR 2020_page-1.png\n",
            "Serco Group PLC Annual report 2020_page-1.png\n",
            "Severn Trent-annual-report-2021_page-2.png\n",
            "Shaftesbury Annual Report 2020_page-1.png\n",
            "smith nephew_annual report 2020_interactive_page-1.png\n",
            "Smiths Group PLC annual report 2020_page-4.png\n",
            "Smurfit_Kappa_Annual_Report_2020_page-2.png\n",
            "Softcat PLC Annual Report 2020_page-1.png\n",
            "Spirax-Sarco S2020-annual-report_page-2.png\n",
            "Spectris PLC annual report 2020_page-2.png\n",
            "Spirent-Communications-plc-Annual-Report-2020_page-1.png\n",
            "SSE AR 2021_page-2.png\n",
            "SSP Group PLC annual report 2020_page-1.png\n",
            "Standard Life Aberdeen PLC AR 2020_page-1.png\n",
            "St Modwen Properties annual-report2020_page-2.png\n",
            "standard-chartered-plc-full-year-2020-report_page-1.png\n",
            "Synthomer_AR2020_page-2.png\n",
            "Tate & Lyle plc ar 2021_page-1.png\n",
            "Taylor Wimpey PLC AR 2020_page-1.png\n",
            "tbc bank AR 2020_page-4.png\n",
            "Telecoms pluc plc-annual-report-2021-rgb-2-_page-1.png\n",
            "Tesco AR 2021_page-1.png\n",
            "The Sage Group Plc. AR 2020_page-1.png\n",
            "Trainline_AR2021_page-1.png\n",
            "TP ICAP PLC Annual Report 2020_page-3.png\n",
            "TI Fluid Systems 2020-annual-report_page-1.png\n",
            "Travis Perkins PLC annual-report-2020_page-3.png\n",
            "Tullow_Oil_plc_2020-21_Annual_Report_and_Accounts_page-2.png\n",
            "Unilever PLC AR 2020_page-2.png\n",
            "udg-annual-report-2020-web_page-2.png\n",
            "UK Commercial Property Trust AR 2020_page-2.png\n",
            "Unite Group PLC Annual Report 2020_page-2.png\n",
            "United Utilities Group plc ar 2021_page-2.png\n",
            "Vesuvius_AR20_page-1.png\n",
            "Vectura-Group-plc-Annual-Report-and-Accounts-2020-21_page-2.png\n",
            "Victrex PLC Annual-Report 2020_page-2.png\n",
            "Virgin Money UK plc Full_Annual_Report_2020_page-2.png\n",
            "Vistry Group PLC Annual report 2020_page-2.png\n",
            "vivo-energy-annual-report-and-accounts-2020_page-2.png\n",
            "vodafone AR 2021_page-1.png\n",
            "Weir Group PLC Annual-report 2020_page-1.png\n",
            "Whitbread_AR2020-1_web-1_page-1.png\n",
            "WHSmith PLC Annual Report 2020_page-2.png\n",
            "William Hill PLC Annual Report 2020_page-1.png\n",
            "Wizz Air Holdings plc ar 2021_page-1.png\n",
            "wppannualreport2020_page-2.png\n",
            "Workspace Group_AR21_page-1.png\n",
            "XP Power AR 2020-21_page-2.png\n"
          ],
          "name": "stdout"
        }
      ]
    },
    {
      "cell_type": "code",
      "metadata": {
        "colab": {
          "base_uri": "https://localhost:8080/"
        },
        "id": "VZaRKEBh9eUx",
        "outputId": "7f28c5cf-8d97-4947-8054-23c79405657b"
      },
      "source": [
        "text[0]"
      ],
      "execution_count": null,
      "outputs": [
        {
          "output_type": "execute_result",
          "data": {
            "text/plain": [
              "['Financial Statements',\n",
              " 'Preparation of the Financial',\n",
              " 'Statements and Directors’',\n",
              " 'Responsibilities 169',\n",
              " '',\n",
              " 'Auditors’ Report 170',\n",
              " 'Consolidated Statements 176',\n",
              " 'Group Accounting Policies 180',\n",
              " 'Notes to the Group',\n",
              " '',\n",
              " 'Financial Statements 187',\n",
              " 'Group Subsidiaries',\n",
              " '',\n",
              " 'and Holdings 234',\n",
              " '',\n",
              " 'Company Statements 238',\n",
              " 'Company Accounting Policies 240',\n",
              " 'Notes to the Company',\n",
              " 'Financial Statements 241',\n",
              " 'Group Financial Record 243']"
            ]
          },
          "metadata": {
            "tags": []
          },
          "execution_count": 19
        }
      ]
    },
    {
      "cell_type": "code",
      "metadata": {
        "id": "Jin9mgCsH2t2"
      },
      "source": [
        "import pandas as pd\n",
        "df = pd.DataFrame()\n",
        "df['filename'] = file\n",
        "df['group'] = group\n",
        "df['text'] = text"
      ],
      "execution_count": null,
      "outputs": []
    },
    {
      "cell_type": "code",
      "metadata": {
        "colab": {
          "base_uri": "https://localhost:8080/",
          "height": 191
        },
        "id": "dQ3om3DyIDI4",
        "outputId": "307de2af-bd7d-428a-c4d4-abcab5fc8112"
      },
      "source": [
        "df.head(3)"
      ],
      "execution_count": null,
      "outputs": [
        {
          "output_type": "execute_result",
          "data": {
            "text/html": [
              "<div>\n",
              "<style scoped>\n",
              "    .dataframe tbody tr th:only-of-type {\n",
              "        vertical-align: middle;\n",
              "    }\n",
              "\n",
              "    .dataframe tbody tr th {\n",
              "        vertical-align: top;\n",
              "    }\n",
              "\n",
              "    .dataframe thead th {\n",
              "        text-align: right;\n",
              "    }\n",
              "</style>\n",
              "<table border=\"1\" class=\"dataframe\">\n",
              "  <thead>\n",
              "    <tr style=\"text-align: right;\">\n",
              "      <th></th>\n",
              "      <th>filename</th>\n",
              "      <th>group</th>\n",
              "      <th>text</th>\n",
              "    </tr>\n",
              "  </thead>\n",
              "  <tbody>\n",
              "    <tr>\n",
              "      <th>0</th>\n",
              "      <td>3i infrastructure ar 2021_page-1.png</td>\n",
              "      <td>0</td>\n",
              "      <td>[750.0859985351562, 640.0515747070312, 1088.20...</td>\n",
              "    </tr>\n",
              "    <tr>\n",
              "      <th>1</th>\n",
              "      <td>3i infrastructure ar 2021_page-1.png</td>\n",
              "      <td>1</td>\n",
              "      <td>[415.5882873535156, 634.460205078125, 713.9063...</td>\n",
              "    </tr>\n",
              "    <tr>\n",
              "      <th>2</th>\n",
              "      <td>3i infrastructure ar 2021_page-1.png</td>\n",
              "      <td>2</td>\n",
              "      <td>[415.5882873535156, 275.2945556640625, 678.384...</td>\n",
              "    </tr>\n",
              "  </tbody>\n",
              "</table>\n",
              "</div>"
            ],
            "text/plain": [
              "                               filename  group  \\\n",
              "0  3i infrastructure ar 2021_page-1.png      0   \n",
              "1  3i infrastructure ar 2021_page-1.png      1   \n",
              "2  3i infrastructure ar 2021_page-1.png      2   \n",
              "\n",
              "                                                text  \n",
              "0  [750.0859985351562, 640.0515747070312, 1088.20...  \n",
              "1  [415.5882873535156, 634.460205078125, 713.9063...  \n",
              "2  [415.5882873535156, 275.2945556640625, 678.384...  "
            ]
          },
          "metadata": {
            "tags": []
          },
          "execution_count": 23
        }
      ]
    },
    {
      "cell_type": "code",
      "metadata": {
        "id": "e99SjMO0IEut"
      },
      "source": [
        "df.to_csv('/content/gdrive/MyDrive/content_page_segmentation/content_segment_results_2021_pdf.csv', index= False)"
      ],
      "execution_count": null,
      "outputs": []
    },
    {
      "cell_type": "code",
      "metadata": {
        "id": "ACfMLE-gIhH0"
      },
      "source": [
        ""
      ],
      "execution_count": null,
      "outputs": []
    }
  ]
}