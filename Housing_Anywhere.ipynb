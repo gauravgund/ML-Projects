{
 "cells": [
  {
   "cell_type": "markdown",
   "id": "b26ef810",
   "metadata": {},
   "source": [
    "<h1> <font color=\"orange\"> Housing Anywhwere Assignment </font> </h1>"
   ]
  },
  {
   "cell_type": "markdown",
   "id": "047975f2",
   "metadata": {},
   "source": [
    "<h2> <font color=\"orange\"> Import Libraries </font> </h2>"
   ]
  },
  {
   "cell_type": "code",
   "execution_count": 82,
   "id": "d0fa464e",
   "metadata": {},
   "outputs": [],
   "source": [
    "import pandas as pd\n",
    "import os\n",
    "import matplotlib.pyplot as plt\n",
    "from scipy.stats import pearsonr\n",
    "from datetime import datetime as dt\n",
    "import sklearn\n",
    "from sklearn.model_selection import train_test_split\n",
    "import numpy as np\n",
    "import json\n",
    "import pgeocode\n",
    "from sklearn.preprocessing import LabelEncoder\n",
    "import lightgbm\n",
    "from sklearn.ensemble import RandomForestRegressor\n",
    "from sklearn.metrics import mean_absolute_error, mean_absolute_percentage_error\n",
    "from sklearn.model_selection import cross_val_score, cross_val_predict\n",
    "from sklearn.experimental import enable_iterative_imputer\n",
    "from sklearn.impute import IterativeImputer\n",
    "from sklearn.preprocessing import MinMaxScaler\n",
    "import warnings\n",
    "warnings.filterwarnings('ignore')\n",
    "import dill\n",
    "os.chdir(r'C:\\Users\\gaurav.gund\\OneDrive - Grant Thornton Advisory Private Limited\\Documents\\d_drive\\C Drive Backup 2021\\Desktop\\hackathon\\housing_anywhere')\n",
    "\n"
   ]
  },
  {
   "cell_type": "markdown",
   "id": "54e0def5",
   "metadata": {},
   "source": [
    "<h4> <font color=\"orange\"> Read Data </font> </h4>"
   ]
  },
  {
   "cell_type": "code",
   "execution_count": 50,
   "id": "e6a93799",
   "metadata": {},
   "outputs": [
    {
     "data": {
      "text/html": [
       "<div>\n",
       "<style scoped>\n",
       "    .dataframe tbody tr th:only-of-type {\n",
       "        vertical-align: middle;\n",
       "    }\n",
       "\n",
       "    .dataframe tbody tr th {\n",
       "        vertical-align: top;\n",
       "    }\n",
       "\n",
       "    .dataframe thead th {\n",
       "        text-align: right;\n",
       "    }\n",
       "</style>\n",
       "<table border=\"1\" class=\"dataframe\">\n",
       "  <thead>\n",
       "    <tr style=\"text-align: right;\">\n",
       "      <th></th>\n",
       "      <th>CREATED_AT</th>\n",
       "      <th>CANCELLATION_POLICY</th>\n",
       "      <th>DEPOSIT</th>\n",
       "      <th>PRICE</th>\n",
       "      <th>FACILITIES_JSON</th>\n",
       "      <th>COSTS_DOC</th>\n",
       "      <th>COUPLES_ALLOWED</th>\n",
       "      <th>KIND</th>\n",
       "      <th>TYPE</th>\n",
       "      <th>ZIP</th>\n",
       "    </tr>\n",
       "  </thead>\n",
       "  <tbody>\n",
       "    <tr>\n",
       "      <th>0</th>\n",
       "      <td>2020-09-10 09:33:40.861 +0000</td>\n",
       "      <td>30d-movein-flexible</td>\n",
       "      <td>1580.0</td>\n",
       "      <td>1580.0</td>\n",
       "      <td>{\"ac\": \"yes\", \"tv\": \"yes\", \"bed\": \"yes\", \"desk...</td>\n",
       "      <td>{\"gas-bill\": {\"value\": 0, \"required\": true, \"p...</td>\n",
       "      <td>yes</td>\n",
       "      <td>entire_place</td>\n",
       "      <td>apartment</td>\n",
       "      <td>8010.0</td>\n",
       "    </tr>\n",
       "    <tr>\n",
       "      <th>1</th>\n",
       "      <td>2021-10-31 07:16:31.161 +0000</td>\n",
       "      <td>strict</td>\n",
       "      <td>NaN</td>\n",
       "      <td>895.0</td>\n",
       "      <td>{\"ac\": \"yes\", \"tv\": \"yes\", \"bed\": null, \"desk\"...</td>\n",
       "      <td>{\"cleaning-fee\": {\"value\": 16900, \"required\": ...</td>\n",
       "      <td>NaN</td>\n",
       "      <td>entire_place</td>\n",
       "      <td>apartment</td>\n",
       "      <td>8003.0</td>\n",
       "    </tr>\n",
       "  </tbody>\n",
       "</table>\n",
       "</div>"
      ],
      "text/plain": [
       "                      CREATED_AT  CANCELLATION_POLICY  DEPOSIT   PRICE  \\\n",
       "0  2020-09-10 09:33:40.861 +0000  30d-movein-flexible   1580.0  1580.0   \n",
       "1  2021-10-31 07:16:31.161 +0000               strict      NaN   895.0   \n",
       "\n",
       "                                     FACILITIES_JSON  \\\n",
       "0  {\"ac\": \"yes\", \"tv\": \"yes\", \"bed\": \"yes\", \"desk...   \n",
       "1  {\"ac\": \"yes\", \"tv\": \"yes\", \"bed\": null, \"desk\"...   \n",
       "\n",
       "                                           COSTS_DOC COUPLES_ALLOWED  \\\n",
       "0  {\"gas-bill\": {\"value\": 0, \"required\": true, \"p...             yes   \n",
       "1  {\"cleaning-fee\": {\"value\": 16900, \"required\": ...             NaN   \n",
       "\n",
       "           KIND       TYPE     ZIP  \n",
       "0  entire_place  apartment  8010.0  \n",
       "1  entire_place  apartment  8003.0  "
      ]
     },
     "execution_count": 50,
     "metadata": {},
     "output_type": "execute_result"
    }
   ],
   "source": [
    "data =pd.read_csv(r'data_science_data_V1.tsv', sep='\\t')\n",
    "data.head(2)"
   ]
  },
  {
   "cell_type": "code",
   "execution_count": 6,
   "id": "fba0bce3",
   "metadata": {},
   "outputs": [
    {
     "data": {
      "text/plain": [
       "(14917, 10)"
      ]
     },
     "execution_count": 6,
     "metadata": {},
     "output_type": "execute_result"
    }
   ],
   "source": [
    "data.shape"
   ]
  },
  {
   "cell_type": "markdown",
   "id": "75d671de",
   "metadata": {},
   "source": [
    "<h2> <font color=\"orange\"> Exploratory Analysis </font> </h2>"
   ]
  },
  {
   "cell_type": "code",
   "execution_count": 7,
   "id": "aa174eaa",
   "metadata": {},
   "outputs": [
    {
     "name": "stdout",
     "output_type": "stream",
     "text": [
      "<class 'pandas.core.frame.DataFrame'>\n",
      "RangeIndex: 14917 entries, 0 to 14916\n",
      "Data columns (total 10 columns):\n",
      " #   Column               Non-Null Count  Dtype  \n",
      "---  ------               --------------  -----  \n",
      " 0   CREATED_AT           14917 non-null  object \n",
      " 1   CANCELLATION_POLICY  14917 non-null  object \n",
      " 2   DEPOSIT              9778 non-null   float64\n",
      " 3   PRICE                14716 non-null  float64\n",
      " 4   FACILITIES_JSON      14917 non-null  object \n",
      " 5   COSTS_DOC            14865 non-null  object \n",
      " 6   COUPLES_ALLOWED      6817 non-null   object \n",
      " 7   KIND                 14917 non-null  object \n",
      " 8   TYPE                 14917 non-null  object \n",
      " 9   ZIP                  14910 non-null  float64\n",
      "dtypes: float64(3), object(7)\n",
      "memory usage: 1.1+ MB\n"
     ]
    }
   ],
   "source": [
    "data.info()\n"
   ]
  },
  {
   "cell_type": "code",
   "execution_count": 9,
   "id": "0c590a3a",
   "metadata": {},
   "outputs": [
    {
     "data": {
      "text/html": [
       "<div>\n",
       "<style scoped>\n",
       "    .dataframe tbody tr th:only-of-type {\n",
       "        vertical-align: middle;\n",
       "    }\n",
       "\n",
       "    .dataframe tbody tr th {\n",
       "        vertical-align: top;\n",
       "    }\n",
       "\n",
       "    .dataframe thead th {\n",
       "        text-align: right;\n",
       "    }\n",
       "</style>\n",
       "<table border=\"1\" class=\"dataframe\">\n",
       "  <thead>\n",
       "    <tr style=\"text-align: right;\">\n",
       "      <th></th>\n",
       "      <th>DEPOSIT</th>\n",
       "      <th>PRICE</th>\n",
       "      <th>ZIP</th>\n",
       "    </tr>\n",
       "  </thead>\n",
       "  <tbody>\n",
       "    <tr>\n",
       "      <th>count</th>\n",
       "      <td>9778.000000</td>\n",
       "      <td>14716.000000</td>\n",
       "      <td>14910.000000</td>\n",
       "    </tr>\n",
       "    <tr>\n",
       "      <th>mean</th>\n",
       "      <td>1652.079923</td>\n",
       "      <td>1181.545927</td>\n",
       "      <td>8017.887525</td>\n",
       "    </tr>\n",
       "    <tr>\n",
       "      <th>std</th>\n",
       "      <td>1094.504275</td>\n",
       "      <td>1006.000609</td>\n",
       "      <td>372.914014</td>\n",
       "    </tr>\n",
       "    <tr>\n",
       "      <th>min</th>\n",
       "      <td>0.000000</td>\n",
       "      <td>0.000000</td>\n",
       "      <td>8001.000000</td>\n",
       "    </tr>\n",
       "    <tr>\n",
       "      <th>25%</th>\n",
       "      <td>650.000000</td>\n",
       "      <td>695.000000</td>\n",
       "      <td>8004.000000</td>\n",
       "    </tr>\n",
       "    <tr>\n",
       "      <th>50%</th>\n",
       "      <td>1700.000000</td>\n",
       "      <td>1050.000000</td>\n",
       "      <td>8012.000000</td>\n",
       "    </tr>\n",
       "    <tr>\n",
       "      <th>75%</th>\n",
       "      <td>2390.000000</td>\n",
       "      <td>1400.000000</td>\n",
       "      <td>8022.000000</td>\n",
       "    </tr>\n",
       "    <tr>\n",
       "      <th>max</th>\n",
       "      <td>14850.000000</td>\n",
       "      <td>59500.000000</td>\n",
       "      <td>40193.000000</td>\n",
       "    </tr>\n",
       "  </tbody>\n",
       "</table>\n",
       "</div>"
      ],
      "text/plain": [
       "            DEPOSIT         PRICE           ZIP\n",
       "count   9778.000000  14716.000000  14910.000000\n",
       "mean    1652.079923   1181.545927   8017.887525\n",
       "std     1094.504275   1006.000609    372.914014\n",
       "min        0.000000      0.000000   8001.000000\n",
       "25%      650.000000    695.000000   8004.000000\n",
       "50%     1700.000000   1050.000000   8012.000000\n",
       "75%     2390.000000   1400.000000   8022.000000\n",
       "max    14850.000000  59500.000000  40193.000000"
      ]
     },
     "execution_count": 9,
     "metadata": {},
     "output_type": "execute_result"
    }
   ],
   "source": [
    "data.describe()"
   ]
  },
  {
   "cell_type": "markdown",
   "id": "e176a8f0",
   "metadata": {},
   "source": [
    "<h4> <font color=\"orange\"> Distribution of Price </font> </h4>"
   ]
  },
  {
   "cell_type": "code",
   "execution_count": 8,
   "id": "a74c41d6",
   "metadata": {},
   "outputs": [
    {
     "data": {
      "image/png": "[encoded data removed]",
      "text/plain": [
       "<Figure size 432x288 with 1 Axes>"
      ]
     },
     "metadata": {
      "needs_background": "light"
     },
     "output_type": "display_data"
    }
   ],
   "source": [
    "plt.scatter(data.index, data['PRICE'] )\n",
    "plt.xlabel('index')\n",
    "plt.ylabel('PRICE')\n",
    "plt.title('Distribution of PRICE')\n",
    "plt.show()\n"
   ]
  },
  {
   "cell_type": "markdown",
   "id": "a7eef98d",
   "metadata": {},
   "source": [
    "<h4> <font color=\"orange\"> Count of observations by year in Created_at </font> </h4> "
   ]
  },
  {
   "cell_type": "code",
   "execution_count": 10,
   "id": "8471f22f",
   "metadata": {},
   "outputs": [
    {
     "data": {
      "text/plain": [
       "2021    6058\n",
       "2020    5053\n",
       "2019    3806\n",
       "Name: CREATED_AT, dtype: int64"
      ]
     },
     "execution_count": 10,
     "metadata": {},
     "output_type": "execute_result"
    }
   ],
   "source": [
    "pd.to_datetime(data['CREATED_AT']).dt.year.value_counts()\n"
   ]
  },
  {
   "cell_type": "code",
   "execution_count": 238,
   "id": "ee441a36",
   "metadata": {},
   "outputs": [
    {
     "data": {
      "image/png": "[encoded data removed]",
      "text/plain": [
       "<Figure size 432x288 with 1 Axes>"
      ]
     },
     "metadata": {
      "needs_background": "light"
     },
     "output_type": "display_data"
    },
    {
     "name": "stdout",
     "output_type": "stream",
     "text": [
      " \n",
      "Observation: Year does not have any impact on mean price\n"
     ]
    }
   ],
   "source": [
    "d2 = data\n",
    "d2['CREATED_AT']= pd.to_datetime(data['CREATED_AT'])\n",
    "d2['year'] = d2.CREATED_AT.dt.year\n",
    "abc1 = d2.groupby(['year'])['PRICE'].mean().reset_index()\n",
    "abc1.columns = ['CREATED_Year', 'Mean Price']\n",
    "plt.bar(abc1['CREATED_Year'], abc1['Mean Price'])\n",
    "plt.title('Mean Price by CREATED_Year')\n",
    "plt.xlabel('CREATED_Year')\n",
    "plt.ylabel('Mean Price')\n",
    "plt.show()\n",
    "\n",
    "data = data.drop('year', axis = 1)\n",
    "\n",
    "print(' ')\n",
    "print('Observation: Year does not have any impact on mean price')"
   ]
  },
  {
   "cell_type": "markdown",
   "id": "f279233a",
   "metadata": {},
   "source": [
    "<h4> <font color=\"orange\"> Distribution of Deposit vs Price </font> </h4>"
   ]
  },
  {
   "cell_type": "code",
   "execution_count": 13,
   "id": "10de43b2",
   "metadata": {},
   "outputs": [
    {
     "data": {
      "image/png": "[encoded data removed]",
      "text/plain": [
       "<Figure size 432x288 with 1 Axes>"
      ]
     },
     "metadata": {
      "needs_background": "light"
     },
     "output_type": "display_data"
    },
    {
     "name": "stdout",
     "output_type": "stream",
     "text": [
      "Observation: Moderate positive correlation can be observed in Deposit and Price though there are counter observations\n"
     ]
    }
   ],
   "source": [
    "plt.scatter( data['PRICE'], data['DEPOSIT'])\n",
    "plt.xlabel('PRICE')\n",
    "plt.ylabel('DEPOSIT')\n",
    "plt.title('DEPOSIT VS PRICE')\n",
    "plt.show()\n",
    "print('Observation: Moderate positive correlation can be observed in Deposit and Price though there are counter observations')"
   ]
  },
  {
   "cell_type": "markdown",
   "id": "a5b33adf",
   "metadata": {},
   "source": [
    "<h4> <font color=\"orange\"> Understanding Cancellation_policy   </font> </h4>"
   ]
  },
  {
   "cell_type": "code",
   "execution_count": 20,
   "id": "91793a1d",
   "metadata": {},
   "outputs": [
    {
     "name": "stdout",
     "output_type": "stream",
     "text": [
      "strict                 13505\n",
      "30d-movein-flexible     1412\n",
      "Name: CANCELLATION_POLICY, dtype: int64\n",
      " \n",
      "Observation: More properties with strict cancellation policy than flexible\n"
     ]
    }
   ],
   "source": [
    "print(data['CANCELLATION_POLICY'].value_counts())\n",
    "print(' ')\n",
    "print(\"Observation: More properties with strict cancellation policy than flexible\")"
   ]
  },
  {
   "cell_type": "code",
   "execution_count": 22,
   "id": "c8b6834a",
   "metadata": {},
   "outputs": [
    {
     "data": {
      "image/png": "[encoded data removed]",
      "text/plain": [
       "<Figure size 432x288 with 1 Axes>"
      ]
     },
     "metadata": {
      "needs_background": "light"
     },
     "output_type": "display_data"
    },
    {
     "name": "stdout",
     "output_type": "stream",
     "text": [
      " \n",
      "Observation: Mean Price is higher for flexible Cancellation policy to cater to extra risks of cancellation \n"
     ]
    }
   ],
   "source": [
    "abc1 = data.groupby(['CANCELLATION_POLICY'])['PRICE'].mean().reset_index()\n",
    "abc1.columns = ['CANCELLATION_POLICY', 'Mean Price']\n",
    "plt.bar(abc1['CANCELLATION_POLICY'], abc1['Mean Price'])\n",
    "plt.title('Mean Price by CANCELLATION_POLICY')\n",
    "plt.xlabel('CANCELLATION_POLICY')\n",
    "plt.ylabel('Mean Price')\n",
    "plt.show()\n",
    "\n",
    "\n",
    "print(' ')\n",
    "print('Observation: Mean Price is higher for flexible Cancellation policy to cater to extra risks of cancellation ')\n"
   ]
  },
  {
   "cell_type": "markdown",
   "id": "df7b3075",
   "metadata": {},
   "source": [
    "<h4> <font color=\"orange\"> Understanding KIND variable   </font> </h4>"
   ]
  },
  {
   "cell_type": "code",
   "execution_count": 24,
   "id": "1e1e10e4",
   "metadata": {},
   "outputs": [
    {
     "name": "stdout",
     "output_type": "stream",
     "text": [
      "entire_place    10670\n",
      "private_room     4047\n",
      "shared_room       200\n",
      "Name: KIND, dtype: int64\n",
      " \n",
      "Observation: More properties are available entirely followed by private rooms and shared rooms\n"
     ]
    }
   ],
   "source": [
    "print(data['KIND'].value_counts())\n",
    "print(' ')\n",
    "print('Observation: More properties are available entirely followed by private rooms and shared rooms')"
   ]
  },
  {
   "cell_type": "code",
   "execution_count": 25,
   "id": "cd5579a8",
   "metadata": {},
   "outputs": [
    {
     "data": {
      "image/png": "[encoded data removed]",
      "text/plain": [
       "<Figure size 432x288 with 1 Axes>"
      ]
     },
     "metadata": {
      "needs_background": "light"
     },
     "output_type": "display_data"
    }
   ],
   "source": [
    "# distribution of KIND\n",
    "abc = data['KIND'].value_counts().reset_index()\n",
    "abc.columns = ['KIND', 'Count of Observations']\n",
    "plt.bar(abc['KIND'], abc['Count of Observations'])\n",
    "plt.title('Distribution of KIND')\n",
    "plt.xlabel('KIND')\n",
    "plt.ylabel('Count of Observations')\n",
    "plt.show()\n"
   ]
  },
  {
   "cell_type": "code",
   "execution_count": 27,
   "id": "8cc80dd1",
   "metadata": {},
   "outputs": [
    {
     "data": {
      "image/png": "[encoded data removed]",
      "text/plain": [
       "<Figure size 432x288 with 1 Axes>"
      ]
     },
     "metadata": {
      "needs_background": "light"
     },
     "output_type": "display_data"
    },
    {
     "name": "stdout",
     "output_type": "stream",
     "text": [
      " \n",
      "Observation: Mean price is higher for entire place followed by private room and shared rooms\n"
     ]
    }
   ],
   "source": [
    "# distribution of KIND and price\n",
    "\n",
    "abc1 = data.groupby(['KIND'])['PRICE'].mean().reset_index()\n",
    "abc1.columns = ['KIND', 'Mean Price']\n",
    "plt.bar(abc1['KIND'], abc1['Mean Price'])\n",
    "plt.title('Mean Price by KIND')\n",
    "plt.xlabel('KIND')\n",
    "plt.ylabel('Mean Price')\n",
    "plt.show()\n",
    "\n",
    "print(' ')\n",
    "print('Observation: Mean price is higher for entire place followed by private room and shared rooms')"
   ]
  },
  {
   "cell_type": "markdown",
   "id": "4f2d376c",
   "metadata": {},
   "source": [
    "<h4> <font color=\"orange\">  Understanding Type variable  </font> </h4>"
   ]
  },
  {
   "cell_type": "code",
   "execution_count": 29,
   "id": "0b9e769f",
   "metadata": {},
   "outputs": [
    {
     "data": {
      "image/png": "[encoded data removed]",
      "text/plain": [
       "<Figure size 432x288 with 1 Axes>"
      ]
     },
     "metadata": {
      "needs_background": "light"
     },
     "output_type": "display_data"
    },
    {
     "name": "stdout",
     "output_type": "stream",
     "text": [
      " \n",
      "Observation: Most properties are of type apartment followed by very few properties of type building or house\n"
     ]
    }
   ],
   "source": [
    "# distribution of TYPE\n",
    "abc = data['TYPE'].value_counts().reset_index()\n",
    "abc.columns = ['TYPE', 'Count of Observations']\n",
    "plt.bar(abc['TYPE'], abc['Count of Observations'])\n",
    "plt.title('Distribution of TYPE')\n",
    "plt.xlabel('TYPE')\n",
    "plt.ylabel('Count of Observations')\n",
    "plt.show()\n",
    "\n",
    "print(' ')\n",
    "print('Observation: Most properties are of type apartment followed by very few properties of type building or house')\n",
    "\n"
   ]
  },
  {
   "cell_type": "code",
   "execution_count": 31,
   "id": "a6984ca0",
   "metadata": {},
   "outputs": [
    {
     "data": {
      "image/png": "[encoded data removed]",
      "text/plain": [
       "<Figure size 432x288 with 1 Axes>"
      ]
     },
     "metadata": {
      "needs_background": "light"
     },
     "output_type": "display_data"
    },
    {
     "name": "stdout",
     "output_type": "stream",
     "text": [
      "Observation: Contrary to number of properties for each type, the mean price is higher for house followed by apartment and building \n"
     ]
    }
   ],
   "source": [
    "# distribution of TYPE and price\n",
    "\n",
    "abc1 = data.groupby(['TYPE'])['PRICE'].mean().reset_index()\n",
    "abc1.columns = ['TYPE', 'Mean Price']\n",
    "plt.bar(abc1['TYPE'], abc1['Mean Price'])\n",
    "plt.title('Mean Price by TYPE')\n",
    "plt.xlabel('TYPE')\n",
    "plt.ylabel('Mean Price')\n",
    "plt.show()\n",
    "\n",
    "print('Observation: Contrary to number of properties for each type, the mean price is higher for house followed by apartment and building ')"
   ]
  },
  {
   "cell_type": "markdown",
   "id": "13f91ab5",
   "metadata": {},
   "source": [
    "<h4> <font color=\"orange\"> Understanding Couples allowed variable   </font> </h4>"
   ]
  },
  {
   "cell_type": "code",
   "execution_count": 33,
   "id": "6b39e404",
   "metadata": {},
   "outputs": [
    {
     "data": {
      "image/png": "[encoded data removed]",
      "text/plain": [
       "<Figure size 432x288 with 1 Axes>"
      ]
     },
     "metadata": {
      "needs_background": "light"
     },
     "output_type": "display_data"
    },
    {
     "name": "stdout",
     "output_type": "stream",
     "text": [
      " \n",
      "Observation: The number of properties that allows Couples are higher than the ones who does not allow couples\n"
     ]
    }
   ],
   "source": [
    "# distribution of couples allowed\n",
    "abc = data['COUPLES_ALLOWED'].value_counts().reset_index()\n",
    "abc.columns = ['COUPLES_ALLOWED', 'Count of Observations']\n",
    "plt.bar(abc['COUPLES_ALLOWED'], abc['Count of Observations'])\n",
    "plt.title('Distribution of COUPLES_ALLOWED')\n",
    "plt.xlabel('COUPLES_ALLOWED')\n",
    "plt.ylabel('Count of Observations')\n",
    "plt.show()\n",
    "print(' ')\n",
    "print('Observation: The number of properties that allows Couples are higher than the ones who does not allow couples')"
   ]
  },
  {
   "cell_type": "code",
   "execution_count": 35,
   "id": "da564575",
   "metadata": {},
   "outputs": [
    {
     "data": {
      "image/png": "[encoded data removed]",
      "text/plain": [
       "<Figure size 432x288 with 1 Axes>"
      ]
     },
     "metadata": {
      "needs_background": "light"
     },
     "output_type": "display_data"
    },
    {
     "name": "stdout",
     "output_type": "stream",
     "text": [
      "Observation: Mean price is higher for properties that allows Couples\n"
     ]
    }
   ],
   "source": [
    "# distribution of couples allowed and price\n",
    "\n",
    "abc1 = data.groupby(['COUPLES_ALLOWED'])['PRICE'].mean().reset_index()\n",
    "abc1.columns = ['COUPLES_ALLOWED', 'Mean Price']\n",
    "plt.bar(abc1['COUPLES_ALLOWED'], abc1['Mean Price'])\n",
    "plt.title('Mean Price by COUPLES_ALLOWED')\n",
    "plt.xlabel('COUPLES_ALLOWED')\n",
    "plt.ylabel('Mean Price')\n",
    "plt.show()\n",
    "\n",
    "print('Observation: Mean price is higher for properties that allows Couples')"
   ]
  },
  {
   "cell_type": "markdown",
   "id": "0fddddbb",
   "metadata": {},
   "source": [
    "<h4> <font color=\"orange\"> Distribution of Zip  </font> </h4>"
   ]
  },
  {
   "cell_type": "code",
   "execution_count": 49,
   "id": "8cbe9306",
   "metadata": {},
   "outputs": [
    {
     "data": {
      "text/plain": [
       "'8010.0'"
      ]
     },
     "execution_count": 49,
     "metadata": {},
     "output_type": "execute_result"
    }
   ],
   "source": [
    "data.ZIP.iloc[0]"
   ]
  },
  {
   "cell_type": "code",
   "execution_count": 60,
   "id": "399d5d52",
   "metadata": {},
   "outputs": [
    {
     "data": {
      "image/png": "[encoded data removed]",
      "text/plain": [
       "<Figure size 432x288 with 1 Axes>"
      ]
     },
     "metadata": {
      "needs_background": "light"
     },
     "output_type": "display_data"
    },
    {
     "name": "stdout",
     "output_type": "stream",
     "text": [
      "Observation: Mean price is higher for properties in ZIP 8017, 8007 and 8008. There is 1 zip code 40193 which is different\n"
     ]
    }
   ],
   "source": [
    "d1 = data\n",
    "d1 = d1[~d1.ZIP.isnull()]\n",
    "d1['ZIP'] = d1.ZIP.apply(lambda x: str(int(float(x))))\n",
    "abc1 = d1.groupby(['ZIP'])['PRICE'].mean().reset_index().sort_values('PRICE')\n",
    "abc1.columns = ['ZIP', 'Mean Price']\n",
    "plt.bar(abc1['ZIP'], abc1['Mean Price'])\n",
    "plt.title('Mean Price by ZIP')\n",
    "plt.xlabel('ZIP')\n",
    "plt.xticks(fontsize=7, rotation='vertical')\n",
    "plt.ylabel('Mean Price')\n",
    "plt.show()\n",
    "\n",
    "print('Observation: Mean price is higher for properties in ZIP 8017, 8007 and 8008. There is 1 zip code 40193 which is different')"
   ]
  },
  {
   "cell_type": "markdown",
   "id": "eb2461e9",
   "metadata": {},
   "source": [
    "<h4> <font color=\"orange\"> Understanding Facilities Json variable  </font> </h4>"
   ]
  },
  {
   "cell_type": "code",
   "execution_count": 116,
   "id": "e3267ace",
   "metadata": {},
   "outputs": [
    {
     "data": {
      "text/plain": [
       "0    {\"ac\": \"yes\", \"tv\": \"yes\", \"bed\": \"yes\", \"desk...\n",
       "1    {\"ac\": \"yes\", \"tv\": \"yes\", \"bed\": null, \"desk\"...\n",
       "2    {\"ac\": \"no\", \"tv\": \"yes\", \"bed\": \"yes\", \"desk\"...\n",
       "Name: FACILITIES_JSON, dtype: object"
      ]
     },
     "execution_count": 116,
     "metadata": {},
     "output_type": "execute_result"
    }
   ],
   "source": [
    "data['FACILITIES_JSON'].head(3)"
   ]
  },
  {
   "cell_type": "code",
   "execution_count": 115,
   "id": "3cc86fcc",
   "metadata": {},
   "outputs": [
    {
     "name": "stdout",
     "output_type": "stream",
     "text": [
      "Unique Combination of dictionary is :34\n"
     ]
    }
   ],
   "source": [
    "print('Unique Combination of dictionary is :' + str(len(data['FACILITIES_JSON'].value_counts().unique())))"
   ]
  },
  {
   "cell_type": "markdown",
   "id": "3f2f9381",
   "metadata": {},
   "source": [
    "<h4> <font color=\"orange\"> Understanding COSTS DOC variable  </font> </h4>"
   ]
  },
  {
   "cell_type": "code",
   "execution_count": 117,
   "id": "60d374c5",
   "metadata": {},
   "outputs": [
    {
     "data": {
      "text/plain": [
       "0    {\"gas-bill\": {\"value\": 0, \"required\": true, \"p...\n",
       "1    {\"cleaning-fee\": {\"value\": 16900, \"required\": ...\n",
       "2    {\"water-bill\": {\"value\": 3000, \"required\": tru...\n",
       "Name: COSTS_DOC, dtype: object"
      ]
     },
     "execution_count": 117,
     "metadata": {},
     "output_type": "execute_result"
    }
   ],
   "source": [
    "data['COSTS_DOC'].head(3)"
   ]
  },
  {
   "cell_type": "code",
   "execution_count": 118,
   "id": "f41c728c",
   "metadata": {},
   "outputs": [
    {
     "name": "stdout",
     "output_type": "stream",
     "text": [
      "Unique Combination of dictionary is :62\n"
     ]
    }
   ],
   "source": [
    "print('Unique Combination of dictionary is :' + str(len(data['COSTS_DOC'].value_counts().unique())))"
   ]
  },
  {
   "cell_type": "markdown",
   "id": "1127b851",
   "metadata": {},
   "source": [
    "<h4> <font color=\"orange\"> Missing Value Check: Data Availability by Variables   </font> </h4>"
   ]
  },
  {
   "cell_type": "code",
   "execution_count": 62,
   "id": "f9a40c5e",
   "metadata": {},
   "outputs": [
    {
     "name": "stdout",
     "output_type": "stream",
     "text": [
      "CREATED_AT                0\n",
      "CANCELLATION_POLICY       0\n",
      "DEPOSIT                5139\n",
      "PRICE                   201\n",
      "FACILITIES_JSON           0\n",
      "COSTS_DOC                52\n",
      "COUPLES_ALLOWED        8100\n",
      "KIND                      0\n",
      "TYPE                      0\n",
      "ZIP                       7\n",
      "dtype: int64\n",
      " \n",
      "Missing values are observed in Price which is a Target Variable\n"
     ]
    }
   ],
   "source": [
    "print(data.isnull().sum(axis= 0))\n",
    "\n",
    "print(' ')\n",
    "print('Missing values are observed in Price which is a Target Variable')"
   ]
  },
  {
   "cell_type": "code",
   "execution_count": null,
   "id": "408054c0",
   "metadata": {},
   "outputs": [],
   "source": []
  },
  {
   "cell_type": "markdown",
   "id": "d3e1e722",
   "metadata": {},
   "source": [
    "<h2> <font color=\"orange\">  Data Split into Train, Test & Validation  </font> </h2>"
   ]
  },
  {
   "cell_type": "code",
   "execution_count": 334,
   "id": "566c1aec",
   "metadata": {},
   "outputs": [
    {
     "name": "stdout",
     "output_type": "stream",
     "text": [
      "There are missing values and 0  in Target Variable, all those will become test data\n",
      " \n",
      "Random Sampling is used to further create train and validation data\n",
      " \n",
      "Dimension of training: (11764, 10)\n",
      "Dimension of test: (212, 10)\n",
      "Dimension of  validation: (2941, 10)\n"
     ]
    }
   ],
   "source": [
    "print('There are missing values and 0  in Target Variable, all those will become test data')\n",
    "print(' ')\n",
    "print('Random Sampling is used to further create train and validation data')\n",
    "print( ' ')\n",
    "test = data[(data.PRICE.isnull())  | (data.PRICE<=0)]\n",
    "\n",
    "data1 = data[~((data.PRICE.isnull())  | (data.PRICE<=0))]\n",
    "train, valid = train_test_split(data1, test_size = 0.2)\n",
    "\n",
    "print('Dimension of training: ' + str(train.shape))\n",
    "print('Dimension of test: ' + str(test.shape))\n",
    "print('Dimension of  validation: ' + str(valid.shape))\n"
   ]
  },
  {
   "cell_type": "markdown",
   "id": "f4212ab7",
   "metadata": {},
   "source": [
    "<h2> <font color=\"orange\"> User Defined Functions for Data Preparation    </font> </h2>"
   ]
  },
  {
   "cell_type": "code",
   "execution_count": 467,
   "id": "81d03ddf",
   "metadata": {},
   "outputs": [],
   "source": [
    "class MultiColumnLabelEncoder:\n",
    "    '''Allows encoding multiple Target variables together and transform to DataFrame'''\n",
    "    \n",
    "    def __init__(self,columns = None):\n",
    "        self.columns = columns # array of column names to encode\n",
    "\n",
    "    def fit(self,X,y=None):\n",
    "        return self # not relevant here\n",
    "\n",
    "    def transform(self,X):\n",
    "        '''\n",
    "        Transforms columns of X specified in self.columns using\n",
    "        LabelEncoder(). If no columns specified, transforms all\n",
    "        columns in X.\n",
    "        '''\n",
    "        output = X.copy()\n",
    "        if self.columns is not None:\n",
    "            for col in self.columns:\n",
    "                output[col] = LabelEncoder().fit_transform(output[col])\n",
    "        else:\n",
    "            for colname,col in output.iteritems():\n",
    "                output[colname] = LabelEncoder().fit_transform(col)\n",
    "        return output\n",
    "\n",
    "    def fit_transform(self,X,y=None):\n",
    "        return self.fit(X,y).transform(X)\n",
    "\n",
    "    \n",
    "\n",
    "# function to extract facilities_json\n",
    "\n",
    "def null_x(x):\n",
    "    '''Function to fix null values in Facilities json '''\n",
    "    try:\n",
    "        if 'null' in x:\n",
    "            x = x.replace('null', '\"'+'null'+ '\"')\n",
    "            return(x)\n",
    "    except:\n",
    "        return(np.nan)\n",
    "\n",
    "def true_false_x(x):\n",
    "    '''Function to fix true/false values in Facilities json '''\n",
    "    \n",
    "    try:\n",
    "        x = x.replace('true', '\"'+'true'+ '\"').replace('false', '\"'+'false'+ '\"')\n",
    "        return(x)\n",
    "    except:\n",
    "        return(np.nan)\n",
    "\n",
    "def eval_x(x):\n",
    "    '''Function to apply eval on all the rows of a dataframe '''\n",
    "    if x:\n",
    "        try:\n",
    "            return(eval(x))\n",
    "        except:\n",
    "            return(np.nan)\n",
    "    return(np.nan)\n",
    "\n",
    "def same_train_test(cols_train, cols_test, test):\n",
    "    '''Function to ensure train and test has same features'''\n",
    "    \n",
    "    # get list of columns not in test\n",
    "    cols_not_in_test = [i for i in cols_train if i not in cols_test]\n",
    "    \n",
    "    # make a column for them with value 0\n",
    "    if cols_not_in_test:\n",
    "        for i in cols_not_in_test:\n",
    "            test[i] = 0\n",
    "    \n",
    "    # re-arrange columns based on training data\n",
    "    test_final = test[cols_train]\n",
    "    return(test_final)\n",
    "\n",
    "def remove_missing(x_train1, threshold):\n",
    "    '''Function to remove missing values given a threshold'''\n",
    "    list1=[]\n",
    "    for i in x_train1.columns:\n",
    "        if x_train1[i].isnull().sum() > 0:\n",
    "            a = x_train1[i].isnull().sum()*100/x_train1.shape[0]\n",
    "            if a> threshold:\n",
    "                list1.append(i)\n",
    "    x_train_fin = x_train1.drop(list1, axis = 1)\n",
    "    return(x_train_fin, list1)"
   ]
  },
  {
   "cell_type": "markdown",
   "id": "4c7e4f32",
   "metadata": {},
   "source": [
    "<h2> <font color=\"orange\"> Iteration 1: Developing Baseline Model    </font> </h2>"
   ]
  },
  {
   "cell_type": "markdown",
   "id": "3ea0beca",
   "metadata": {},
   "source": [
    "<h3> <font color=\"orange\"> Iteration 1: Feature Engineering and Data Preprocessing on Training Data </font> </h3>"
   ]
  },
  {
   "cell_type": "markdown",
   "id": "96bbd82b",
   "metadata": {},
   "source": [
    "<h4> <font color=\"orange\"> Preprocess Training data   </font> </h4>"
   ]
  },
  {
   "cell_type": "code",
   "execution_count": 241,
   "id": "2b660029",
   "metadata": {},
   "outputs": [],
   "source": [
    "# One hot Encode\n",
    "train_t = pd.get_dummies(train, columns=['CANCELLATION_POLICY', 'COUPLES_ALLOWED', 'KIND', 'TYPE', 'ZIP'], dummy_na = True)\n",
    "\n",
    "#  remove columns\n",
    "train_t = train_t.drop(['CREATED_AT', 'FACILITIES_JSON', 'COSTS_DOC'], axis= 1)\n",
    "\n",
    "# convert columns to numeric\n",
    "cols = train_t.columns\n",
    "\n",
    "train_t[cols] = train_t[cols].apply(pd.to_numeric, errors='coerce')"
   ]
  },
  {
   "cell_type": "code",
   "execution_count": 242,
   "id": "8b325686",
   "metadata": {},
   "outputs": [],
   "source": [
    "y_t = train_t['PRICE']\n",
    "x_t = train_t.drop('PRICE', axis = 1)"
   ]
  },
  {
   "cell_type": "markdown",
   "id": "28856998",
   "metadata": {},
   "source": [
    "<h4> <font color=\"orange\">  Missing Value check and Imputation  </font> </h4>"
   ]
  },
  {
   "cell_type": "code",
   "execution_count": 243,
   "id": "bdd874a1",
   "metadata": {},
   "outputs": [
    {
     "name": "stdout",
     "output_type": "stream",
     "text": [
      "DEPOSIT                                    4031\n",
      "CANCELLATION_POLICY_30d-movein-flexible       0\n",
      "CANCELLATION_POLICY_strict                    0\n",
      "CANCELLATION_POLICY_nan                       0\n",
      "COUPLES_ALLOWED_no                            0\n",
      "COUPLES_ALLOWED_yes                           0\n",
      "COUPLES_ALLOWED_nan                           0\n",
      "KIND_entire_place                             0\n",
      "KIND_private_room                             0\n",
      "KIND_shared_room                              0\n",
      "KIND_nan                                      0\n",
      "TYPE_apartment                                0\n",
      "TYPE_building                                 0\n",
      "TYPE_house                                    0\n",
      "TYPE_nan                                      0\n",
      "ZIP_8001.0                                    0\n",
      "ZIP_8002.0                                    0\n",
      "ZIP_8003.0                                    0\n",
      "ZIP_8004.0                                    0\n",
      "ZIP_8005.0                                    0\n",
      "ZIP_8006.0                                    0\n",
      "ZIP_8007.0                                    0\n",
      "ZIP_8008.0                                    0\n",
      "ZIP_8009.0                                    0\n",
      "ZIP_8010.0                                    0\n",
      "ZIP_8011.0                                    0\n",
      "ZIP_8012.0                                    0\n",
      "ZIP_8013.0                                    0\n",
      "ZIP_8014.0                                    0\n",
      "ZIP_8015.0                                    0\n",
      "ZIP_8016.0                                    0\n",
      "ZIP_8017.0                                    0\n",
      "ZIP_8018.0                                    0\n",
      "ZIP_8019.0                                    0\n",
      "ZIP_8020.0                                    0\n",
      "ZIP_8021.0                                    0\n",
      "ZIP_8022.0                                    0\n",
      "ZIP_8023.0                                    0\n",
      "ZIP_8024.0                                    0\n",
      "ZIP_8025.0                                    0\n",
      "ZIP_8026.0                                    0\n",
      "ZIP_8027.0                                    0\n",
      "ZIP_8028.0                                    0\n",
      "ZIP_8029.0                                    0\n",
      "ZIP_8030.0                                    0\n",
      "ZIP_8031.0                                    0\n",
      "ZIP_8032.0                                    0\n",
      "ZIP_8033.0                                    0\n",
      "ZIP_8034.0                                    0\n",
      "ZIP_8035.0                                    0\n",
      "ZIP_8036.0                                    0\n",
      "ZIP_8037.0                                    0\n",
      "ZIP_8038.0                                    0\n",
      "ZIP_8040.0                                    0\n",
      "ZIP_8041.0                                    0\n",
      "ZIP_8042.0                                    0\n",
      "ZIP_8930.0                                    0\n",
      "ZIP_40193.0                                   0\n",
      "ZIP_nan                                       0\n",
      "dtype: int64\n",
      " \n",
      "Observation: Missing values in Deposit\n"
     ]
    }
   ],
   "source": [
    "print(x_t.isnull().sum(axis = 0))\n",
    "\n",
    "print(' ')\n",
    "print('Observation: Missing values in Deposit')"
   ]
  },
  {
   "cell_type": "markdown",
   "id": "e1ef9c19",
   "metadata": {},
   "source": [
    "<h4> <font color=\"orange\"> Missing Value Imputation   </font> </h4>"
   ]
  },
  {
   "cell_type": "code",
   "execution_count": 244,
   "id": "1ff11119",
   "metadata": {},
   "outputs": [],
   "source": [
    "imp_mean1 = IterativeImputer(random_state=0, max_iter = 100)\n",
    "x_t_imp = imp_mean1.fit_transform(x_t)"
   ]
  },
  {
   "cell_type": "markdown",
   "id": "fa8ffed4",
   "metadata": {},
   "source": [
    "<h4> <font color=\"orange\"> Preprocess Validation Data   </font> </h4>"
   ]
  },
  {
   "cell_type": "code",
   "execution_count": 245,
   "id": "8945b7d5",
   "metadata": {},
   "outputs": [],
   "source": [
    "# One hot Encode\n",
    "\n",
    "val_t = pd.get_dummies(valid, columns=['CANCELLATION_POLICY', 'COUPLES_ALLOWED', 'KIND', 'TYPE', 'ZIP'], dummy_na = True)\n",
    "\n",
    "#  remove columns\n",
    "val_t = val_t.drop(['CREATED_AT', 'FACILITIES_JSON', 'COSTS_DOC'], axis= 1)\n",
    "\n",
    "# convert columns to numeric\n",
    "cols =val_t.columns\n",
    "\n",
    "val_t[cols] = val_t[cols].apply(pd.to_numeric, errors='coerce')"
   ]
  },
  {
   "cell_type": "code",
   "execution_count": 246,
   "id": "d4cebbcc",
   "metadata": {},
   "outputs": [],
   "source": [
    "\n",
    "y_v = val_t['PRICE']\n",
    "x_v = val_t.drop('PRICE', axis = 1)"
   ]
  },
  {
   "cell_type": "markdown",
   "id": "559a42c0",
   "metadata": {},
   "source": [
    "<h4> <font color=\"orange\">  Same columns in Training and Validation data  </font> </h4>"
   ]
  },
  {
   "cell_type": "code",
   "execution_count": 247,
   "id": "68526231",
   "metadata": {},
   "outputs": [
    {
     "data": {
      "text/plain": [
       "((11764, 59), (2941, 59))"
      ]
     },
     "execution_count": 247,
     "metadata": {},
     "output_type": "execute_result"
    }
   ],
   "source": [
    "x_v= same_train_test(list(x_t.columns), list(x_v.columns), x_v)\n",
    "x_t.shape, x_v.shape"
   ]
  },
  {
   "cell_type": "markdown",
   "id": "b511b032",
   "metadata": {},
   "source": [
    "<h4> <font color=\"orange\">  Impute missing value on Validation data  </font> </h4>"
   ]
  },
  {
   "cell_type": "code",
   "execution_count": 248,
   "id": "8719f71b",
   "metadata": {},
   "outputs": [],
   "source": [
    "x_v_imp = imp_mean1.transform(x_v)"
   ]
  },
  {
   "cell_type": "markdown",
   "id": "bfde4ee3",
   "metadata": {},
   "source": [
    "<h4> <font color=\"orange\">  Random Forest Model  </font> </h4>"
   ]
  },
  {
   "cell_type": "code",
   "execution_count": 267,
   "id": "9fba9683",
   "metadata": {},
   "outputs": [],
   "source": [
    "rgb_base = RandomForestRegressor(n_estimators = 800, max_features = 0.7, max_samples = 0.9, oob_score= True)"
   ]
  },
  {
   "cell_type": "code",
   "execution_count": 268,
   "id": "512232db",
   "metadata": {},
   "outputs": [
    {
     "data": {
      "text/plain": [
       "RandomForestRegressor(max_features=0.7, max_samples=0.9, n_estimators=800,\n",
       "                      oob_score=True)"
      ]
     },
     "execution_count": 268,
     "metadata": {},
     "output_type": "execute_result"
    }
   ],
   "source": [
    "rgb_base.fit(x_t_imp, y_t)"
   ]
  },
  {
   "cell_type": "code",
   "execution_count": 269,
   "id": "8c331ad1",
   "metadata": {},
   "outputs": [
    {
     "name": "stdout",
     "output_type": "stream",
     "text": [
      "MAE on Validation Data: 236.8650364242463\n"
     ]
    }
   ],
   "source": [
    "pred = rgb_base.predict(x_v_imp)\n",
    "print('MAE on Validation Data: ' + str(mean_absolute_error(y_v, pred)))"
   ]
  },
  {
   "cell_type": "code",
   "execution_count": 270,
   "id": "0086fa8e",
   "metadata": {},
   "outputs": [
    {
     "name": "stdout",
     "output_type": "stream",
     "text": [
      "MAE on Training Data: 160.41801260284058\n"
     ]
    }
   ],
   "source": [
    "print('MAE on Training Data: ' + str(mean_absolute_error(y_t, rgb_base.predict(x_t_imp))))"
   ]
  },
  {
   "cell_type": "markdown",
   "id": "04a522a6",
   "metadata": {},
   "source": [
    "<h4> <font color=\"orange\">  Random Forest Model: Results Analysis  </font> </h4>"
   ]
  },
  {
   "cell_type": "code",
   "execution_count": 271,
   "id": "0d5d1d95",
   "metadata": {},
   "outputs": [
    {
     "name": "stdout",
     "output_type": "stream",
     "text": [
      "moderate           0.812989\n",
      "underestimation    0.107106\n",
      "overestimation     0.079905\n",
      "Name: infer, dtype: float64\n",
      " \n",
      "Observations: Almost 81% of data falls in the range of +- 300, there is 11% of data where underestimation is happening followed by 7% of data with Overestimation\n"
     ]
    }
   ],
   "source": [
    "df_base = pd.DataFrame()\n",
    "df_base['actual'] = y_v\n",
    "df_base['predicted'] = pred\n",
    "df_base['residuals'] = df_base['actual'] - df_base['predicted']\n",
    "conditions  = [ df_base['residuals'] <= -300, (df_base['residuals'] >= -300) & (df_base['residuals']<= 300), df_base['residuals'] >= 300 ]\n",
    "choices     = [ \"underestimation\", 'moderate', 'overestimation' ]\n",
    "\n",
    "df_base[\"infer\"] = np.select(conditions, choices, default=np.nan)\n",
    "\n",
    "print(df_base['infer'].value_counts(normalize=True))\n",
    "print(' ')\n",
    "print('Observations: Almost 81% of data falls in the range of +- 300, there is 11% of data where underestimation is happening followed by 7% of data with Overestimation')\n"
   ]
  },
  {
   "cell_type": "markdown",
   "id": "dac43300",
   "metadata": {},
   "source": [
    "<h2> <font color=\"orange\">  Observations on Random Forest Model: Iteration first </font> </h2>"
   ]
  },
  {
   "cell_type": "markdown",
   "id": "7fbb1132",
   "metadata": {},
   "source": [
    "<li> Base model without taking into consideration Facilities and Costs is built </li>\n",
    "<li> Reason for not including Facilities and Costs in base model is the sparse variables which might introduce missing values </li>\n",
    "<li> One-hot encoding is done for all other variables including ZIP code since latitude and longitude information was the same across all ZIP codes</li>\n",
    "<li> Tree-based Random Forest (Bagging) is used after trying Lightgbm (Boosting)(MAE of 265 was achieved) based on the lower MAE on validation </li> \n",
    "<li> Error Analysis is done to understand model tendency to predict </li>"
   ]
  },
  {
   "cell_type": "markdown",
   "id": "436927f4",
   "metadata": {},
   "source": [
    "<h2> <font color=\"orange\">  Iteration 2: Developing Model with Facilities and Costs included </font> </h2>"
   ]
  },
  {
   "cell_type": "markdown",
   "id": "71b8c1bd",
   "metadata": {},
   "source": [
    "<h4> <font color=\"orange\"> Applying function and preprocess variables in training data   </font> </h4>"
   ]
  },
  {
   "cell_type": "code",
   "execution_count": 335,
   "id": "6fde7c23",
   "metadata": {},
   "outputs": [],
   "source": [
    "# convert CREATED_AT into Datetime field\n",
    "train['CREATED_AT'] = pd.to_datetime(train['CREATED_AT'])"
   ]
  },
  {
   "cell_type": "code",
   "execution_count": 336,
   "id": "11958084",
   "metadata": {},
   "outputs": [
    {
     "data": {
      "text/html": [
       "<div>\n",
       "<style scoped>\n",
       "    .dataframe tbody tr th:only-of-type {\n",
       "        vertical-align: middle;\n",
       "    }\n",
       "\n",
       "    .dataframe tbody tr th {\n",
       "        vertical-align: top;\n",
       "    }\n",
       "\n",
       "    .dataframe thead th {\n",
       "        text-align: right;\n",
       "    }\n",
       "</style>\n",
       "<table border=\"1\" class=\"dataframe\">\n",
       "  <thead>\n",
       "    <tr style=\"text-align: right;\">\n",
       "      <th></th>\n",
       "      <th>CREATED_AT</th>\n",
       "      <th>CANCELLATION_POLICY</th>\n",
       "      <th>DEPOSIT</th>\n",
       "      <th>PRICE</th>\n",
       "      <th>FACILITIES_JSON</th>\n",
       "      <th>COSTS_DOC</th>\n",
       "      <th>COUPLES_ALLOWED</th>\n",
       "      <th>KIND</th>\n",
       "      <th>TYPE</th>\n",
       "      <th>ZIP</th>\n",
       "    </tr>\n",
       "  </thead>\n",
       "  <tbody>\n",
       "    <tr>\n",
       "      <th>4508</th>\n",
       "      <td>2021-01-16 07:17:10.756000+00:00</td>\n",
       "      <td>strict</td>\n",
       "      <td>2190.0</td>\n",
       "      <td>1095.0</td>\n",
       "      <td>{\"ac\": \"yes\", \"tv\": \"yes\", \"bed\": null, \"desk\"...</td>\n",
       "      <td>{\"gas-bill\": {\"value\": 0, \"required\": true, \"p...</td>\n",
       "      <td>NaN</td>\n",
       "      <td>entire_place</td>\n",
       "      <td>apartment</td>\n",
       "      <td>8014.0</td>\n",
       "    </tr>\n",
       "    <tr>\n",
       "      <th>4525</th>\n",
       "      <td>2020-12-22 10:32:51.768000+00:00</td>\n",
       "      <td>strict</td>\n",
       "      <td>NaN</td>\n",
       "      <td>3002.0</td>\n",
       "      <td>{\"ac\": \"yes\", \"tv\": \"yes\", \"bed\": \"yes\", \"desk...</td>\n",
       "      <td>{\"gas-bill\": {\"value\": 0, \"required\": true, \"p...</td>\n",
       "      <td>yes</td>\n",
       "      <td>entire_place</td>\n",
       "      <td>apartment</td>\n",
       "      <td>8014.0</td>\n",
       "    </tr>\n",
       "  </tbody>\n",
       "</table>\n",
       "</div>"
      ],
      "text/plain": [
       "                           CREATED_AT CANCELLATION_POLICY  DEPOSIT   PRICE  \\\n",
       "4508 2021-01-16 07:17:10.756000+00:00              strict   2190.0  1095.0   \n",
       "4525 2020-12-22 10:32:51.768000+00:00              strict      NaN  3002.0   \n",
       "\n",
       "                                        FACILITIES_JSON  \\\n",
       "4508  {\"ac\": \"yes\", \"tv\": \"yes\", \"bed\": null, \"desk\"...   \n",
       "4525  {\"ac\": \"yes\", \"tv\": \"yes\", \"bed\": \"yes\", \"desk...   \n",
       "\n",
       "                                              COSTS_DOC COUPLES_ALLOWED  \\\n",
       "4508  {\"gas-bill\": {\"value\": 0, \"required\": true, \"p...             NaN   \n",
       "4525  {\"gas-bill\": {\"value\": 0, \"required\": true, \"p...             yes   \n",
       "\n",
       "              KIND       TYPE     ZIP  \n",
       "4508  entire_place  apartment  8014.0  \n",
       "4525  entire_place  apartment  8014.0  "
      ]
     },
     "execution_count": 336,
     "metadata": {},
     "output_type": "execute_result"
    }
   ],
   "source": [
    "train.head(2)"
   ]
  },
  {
   "cell_type": "markdown",
   "id": "fa9657f7",
   "metadata": {},
   "source": [
    "<h4> <font color=\"orange\"> Extract FACILITIES & COSTS and combine with train data  </font> </h4>"
   ]
  },
  {
   "cell_type": "code",
   "execution_count": 337,
   "id": "30c20baa",
   "metadata": {},
   "outputs": [],
   "source": [
    "#Extracting data from FACILITIES_JSON AND COSTS_DOC\n",
    "train['FACILITIES_JSON'] = train['FACILITIES_JSON'].apply(lambda x: null_x(x))\n",
    "\n",
    "train['FACILITIES_JSON'] = train['FACILITIES_JSON'].apply(lambda x: eval_x(x) )\n",
    "train['COSTS_DOC'] = train['COSTS_DOC'].apply(lambda x: true_false_x(x) )\n",
    "train['COSTS_DOC'] = train['COSTS_DOC'].apply(lambda x: eval_x(x) )\n",
    "t2 = pd.json_normalize(train['COSTS_DOC'])\n",
    "t1 = pd.json_normalize(train['FACILITIES_JSON'])"
   ]
  },
  {
   "cell_type": "code",
   "execution_count": 338,
   "id": "9c83337f",
   "metadata": {},
   "outputs": [
    {
     "data": {
      "text/html": [
       "<div>\n",
       "<style scoped>\n",
       "    .dataframe tbody tr th:only-of-type {\n",
       "        vertical-align: middle;\n",
       "    }\n",
       "\n",
       "    .dataframe tbody tr th {\n",
       "        vertical-align: top;\n",
       "    }\n",
       "\n",
       "    .dataframe thead th {\n",
       "        text-align: right;\n",
       "    }\n",
       "</style>\n",
       "<table border=\"1\" class=\"dataframe\">\n",
       "  <thead>\n",
       "    <tr style=\"text-align: right;\">\n",
       "      <th></th>\n",
       "      <th>ac</th>\n",
       "      <th>tv</th>\n",
       "      <th>bed</th>\n",
       "      <th>desk</th>\n",
       "      <th>lock</th>\n",
       "      <th>wifi</th>\n",
       "      <th>dryer</th>\n",
       "      <th>closet</th>\n",
       "      <th>garden</th>\n",
       "      <th>toilet</th>\n",
       "      <th>...</th>\n",
       "      <th>housemates_gender</th>\n",
       "      <th>internet_included</th>\n",
       "      <th>water_cost_included</th>\n",
       "      <th>electricity_included</th>\n",
       "      <th>registration_possible</th>\n",
       "      <th>wheelchair_accessible</th>\n",
       "      <th>shed</th>\n",
       "      <th>balcony</th>\n",
       "      <th>bedroom</th>\n",
       "      <th>terrace</th>\n",
       "    </tr>\n",
       "  </thead>\n",
       "  <tbody>\n",
       "    <tr>\n",
       "      <th>0</th>\n",
       "      <td>yes</td>\n",
       "      <td>yes</td>\n",
       "      <td>null</td>\n",
       "      <td>null</td>\n",
       "      <td>no</td>\n",
       "      <td>yes</td>\n",
       "      <td>null</td>\n",
       "      <td>yes</td>\n",
       "      <td>no</td>\n",
       "      <td>private</td>\n",
       "      <td>...</td>\n",
       "      <td>null</td>\n",
       "      <td>yes</td>\n",
       "      <td>yes</td>\n",
       "      <td>yes</td>\n",
       "      <td>yes</td>\n",
       "      <td>yes</td>\n",
       "      <td>NaN</td>\n",
       "      <td>NaN</td>\n",
       "      <td>NaN</td>\n",
       "      <td>NaN</td>\n",
       "    </tr>\n",
       "    <tr>\n",
       "      <th>1</th>\n",
       "      <td>yes</td>\n",
       "      <td>yes</td>\n",
       "      <td>yes</td>\n",
       "      <td>yes</td>\n",
       "      <td>yes</td>\n",
       "      <td>yes</td>\n",
       "      <td>yes</td>\n",
       "      <td>yes</td>\n",
       "      <td>no</td>\n",
       "      <td>private</td>\n",
       "      <td>...</td>\n",
       "      <td>null</td>\n",
       "      <td>yes</td>\n",
       "      <td>yes</td>\n",
       "      <td>yes</td>\n",
       "      <td>yes</td>\n",
       "      <td>no</td>\n",
       "      <td>NaN</td>\n",
       "      <td>NaN</td>\n",
       "      <td>NaN</td>\n",
       "      <td>NaN</td>\n",
       "    </tr>\n",
       "  </tbody>\n",
       "</table>\n",
       "<p>2 rows × 45 columns</p>\n",
       "</div>"
      ],
      "text/plain": [
       "    ac   tv   bed  desk lock wifi dryer closet garden   toilet  ...  \\\n",
       "0  yes  yes  null  null   no  yes  null    yes     no  private  ...   \n",
       "1  yes  yes   yes   yes  yes  yes   yes    yes     no  private  ...   \n",
       "\n",
       "  housemates_gender internet_included water_cost_included  \\\n",
       "0              null               yes                 yes   \n",
       "1              null               yes                 yes   \n",
       "\n",
       "  electricity_included registration_possible wheelchair_accessible shed  \\\n",
       "0                  yes                   yes                   yes  NaN   \n",
       "1                  yes                   yes                    no  NaN   \n",
       "\n",
       "  balcony bedroom terrace  \n",
       "0     NaN     NaN     NaN  \n",
       "1     NaN     NaN     NaN  \n",
       "\n",
       "[2 rows x 45 columns]"
      ]
     },
     "execution_count": 338,
     "metadata": {},
     "output_type": "execute_result"
    }
   ],
   "source": [
    "t1.head(2)"
   ]
  },
  {
   "cell_type": "code",
   "execution_count": 339,
   "id": "d32cf4b4",
   "metadata": {},
   "outputs": [],
   "source": [
    "numeric_t1 = ['total_size', 'bedroom_count', 'bedroom_size']\n",
    "\n",
    "numeric_t2= ['security-deposit.value', 'administration-fee.value', 'cleaning-fee.value', 'utility-bills.value','gas-bill.value', 'water-bill.value', 'internet-bill.value', 'electricity-bill.value', 'late-move-in.value', 'cleaning-service.value', 'administration-fee.calculationRule.value', 'towels-and-bedding.value', 'end-early-fee.value', 'final-cleaning.value', 'overnight-guests.value', 'other-additional-costs.value', 'parking.value', 'broadcasting-bill.value', 'early-move-in.value', 'early-move-out.value', 'other-deposit.value', 'gym.value', 'full-board.value', 'half-board.value', 'late-move-out.value', 'other-optional-costs.value', 'towel-deposit.value', 'bedding-deposit.value' ]\n",
    "\n"
   ]
  },
  {
   "cell_type": "code",
   "execution_count": 340,
   "id": "3881a376",
   "metadata": {},
   "outputs": [],
   "source": [
    "# combine all data\n",
    "t1.index = train.index.values\n",
    "t2.index = train.index.values\n",
    "train1 = pd.concat([train, t1, t2] , axis= 1)"
   ]
  },
  {
   "cell_type": "code",
   "execution_count": 341,
   "id": "3bcb1f54",
   "metadata": {},
   "outputs": [
    {
     "data": {
      "text/plain": [
       "(11764, 219)"
      ]
     },
     "execution_count": 341,
     "metadata": {},
     "output_type": "execute_result"
    }
   ],
   "source": [
    "train1.shape"
   ]
  },
  {
   "cell_type": "code",
   "execution_count": 342,
   "id": "0e723e47",
   "metadata": {},
   "outputs": [],
   "source": [
    "cols_train_before = train1.columns\n",
    "\n",
    "le_cols = list(set(train1.columns)- set(train.columns)-set(numeric_t1)-set(numeric_t2))"
   ]
  },
  {
   "cell_type": "code",
   "execution_count": 471,
   "id": "5225fe37",
   "metadata": {},
   "outputs": [
    {
     "data": {
      "text/plain": [
       "['broadcasting-bill.payableBy',\n",
       " 'internet-bill.refundable',\n",
       " 'towel-deposit.refundable',\n",
       " 'other-additional-costs.refundable',\n",
       " 'terrace',\n",
       " 'towel-deposit.payableBy',\n",
       " 'tenant_status',\n",
       " 'full-board.refundable',\n",
       " 'shed',\n",
       " 'towels-and-bedding.required',\n",
       " 'allergy_friendly',\n",
       " 'parking.payableBy',\n",
       " 'towel-deposit.payableAt',\n",
       " 'broadcasting-bill.isEstimated',\n",
       " 'water-bill.payableAt',\n",
       " 'gas-bill.payableBy',\n",
       " 'gas_cost_included',\n",
       " 'towels-and-bedding.payableAt',\n",
       " 'half-board.payableBy',\n",
       " 'other-deposit.required',\n",
       " 'bedroom',\n",
       " 'water-bill.payableBy',\n",
       " 'internet-bill.required',\n",
       " 'half-board.isEstimated',\n",
       " 'bathroom',\n",
       " 'water-bill.isEstimated',\n",
       " 'other-deposit.payableAt',\n",
       " 'bedding-deposit.required',\n",
       " 'water-bill.refundable',\n",
       " 'utility-bills.required',\n",
       " 'cleaning-service.refundable',\n",
       " 'bedding-deposit.isEstimated',\n",
       " 'electricity-bill.isEstimated',\n",
       " 'parking.required',\n",
       " 'kitchenware',\n",
       " 'internet_included',\n",
       " 'administration-fee.isEstimated',\n",
       " 'late-move-in.refundable',\n",
       " 'lroom_furniture',\n",
       " 'towels-and-bedding.isEstimated',\n",
       " 'late-move-out.isEstimated',\n",
       " 'end-early-fee.isEstimated',\n",
       " 'living_room',\n",
       " 'broadcasting-bill.required',\n",
       " 'other-deposit.refundable',\n",
       " 'kitchen',\n",
       " 'towel-deposit.isEstimated',\n",
       " 'late-move-out.payableAt',\n",
       " 'cleaning-fee.required',\n",
       " 'end-early-fee.payableAt',\n",
       " 'full-board.required',\n",
       " 'overnight-guests.refundable',\n",
       " 'parking',\n",
       " 'final-cleaning.isEstimated',\n",
       " 'registration_possible',\n",
       " 'gym.payableBy',\n",
       " 'parking.payableAt',\n",
       " 'desk',\n",
       " 'towel-deposit.required',\n",
       " 'other-optional-costs.payableBy',\n",
       " 'lock',\n",
       " 'overnight-guests.payableAt',\n",
       " 'other-deposit.payableBy',\n",
       " 'early-move-out.isEstimated',\n",
       " 'security-deposit.isEstimated',\n",
       " 'parking.isEstimated',\n",
       " 'bedding-deposit.refundable',\n",
       " 'smoking_allowed',\n",
       " 'toilet',\n",
       " 'administration-fee.payableAt',\n",
       " 'late-move-out.refundable',\n",
       " 'heating',\n",
       " 'security-deposit.payableBy',\n",
       " 'cleaning-service.isEstimated',\n",
       " 'other-additional-costs.required',\n",
       " 'cleaning-fee.isEstimated',\n",
       " 'flooring',\n",
       " 'cleaning_private',\n",
       " 'early-move-in.payableBy',\n",
       " 'early-move-in.refundable',\n",
       " 'other-optional-costs.required',\n",
       " 'play_music',\n",
       " 'electricity-bill.payableBy',\n",
       " 'half-board.payableAt',\n",
       " 'full-board.payableBy',\n",
       " 'wifi',\n",
       " 'overnight-guests.payableBy',\n",
       " 'internet-bill.payableAt',\n",
       " 'late-move-out.payableBy',\n",
       " 'security-deposit.refundable',\n",
       " 'electricity-bill.refundable',\n",
       " 'tv',\n",
       " 'full-board.payableAt',\n",
       " 'utility-bills.refundable',\n",
       " 'gym.isEstimated',\n",
       " 'balcony_terrace',\n",
       " 'housemates_gender',\n",
       " 'end-early-fee.required',\n",
       " 'wheelchair_accessible',\n",
       " 'bedding-deposit.payableBy',\n",
       " 'electricity-bill.required',\n",
       " 'internet-bill.isEstimated',\n",
       " 'full-board.isEstimated',\n",
       " 'gas-bill.refundable',\n",
       " 'final-cleaning.payableBy',\n",
       " 'cleaning-service.required',\n",
       " 'towels-and-bedding.payableBy',\n",
       " 'electricity_included',\n",
       " 'half-board.refundable',\n",
       " 'late-move-in.payableAt',\n",
       " 'final-cleaning.refundable',\n",
       " 'administration-fee.payableBy',\n",
       " 'balcony',\n",
       " 'electricity-bill.payableAt',\n",
       " 'washing_machine',\n",
       " 'cleaning-service.payableAt',\n",
       " 'water_cost_included',\n",
       " 'gas-bill.required',\n",
       " 'broadcasting-bill.refundable',\n",
       " 'security-deposit.payableAt',\n",
       " 'final-cleaning.required',\n",
       " 'cleaning-fee.payableBy',\n",
       " 'cleaning_common',\n",
       " 'other-additional-costs.isEstimated',\n",
       " 'towels-and-bedding.refundable',\n",
       " 'early-move-in.required',\n",
       " 'broadcasting-bill.payableAt',\n",
       " 'closet',\n",
       " 'early-move-in.payableAt',\n",
       " 'overnight-guests.isEstimated',\n",
       " 'late-move-in.payableBy',\n",
       " 'cleaning-service.payableBy',\n",
       " 'bedding-deposit.payableAt',\n",
       " 'bed',\n",
       " 'utility-bills.isEstimated',\n",
       " 'other-additional-costs.payableBy',\n",
       " 'cleaning-fee.refundable',\n",
       " 'end-early-fee.payableBy',\n",
       " 'gas-bill.payableAt',\n",
       " 'early-move-out.required',\n",
       " 'administration-fee.calculationRule.type',\n",
       " 'garden',\n",
       " 'early-move-out.payableAt',\n",
       " 'administration-fee.refundable',\n",
       " 'cleaning-fee.payableAt',\n",
       " 'internet-bill.payableBy',\n",
       " 'gym.refundable',\n",
       " 'early-move-out.refundable',\n",
       " 'ac',\n",
       " 'water-bill.required',\n",
       " 'end-early-fee.refundable',\n",
       " 'utility-bills.payableAt',\n",
       " 'gym.payableAt',\n",
       " 'overnight-guests.required',\n",
       " 'dishwasher',\n",
       " 'early-move-in.isEstimated',\n",
       " 'late-move-out.required',\n",
       " 'early-move-out.payableBy',\n",
       " 'security-deposit.required',\n",
       " 'administration-fee.required',\n",
       " 'late-move-in.isEstimated',\n",
       " 'other-optional-costs.payableAt',\n",
       " 'utility-bills.payableBy',\n",
       " 'internet',\n",
       " 'gas-bill.isEstimated',\n",
       " 'other-optional-costs.isEstimated',\n",
       " 'other-deposit.isEstimated',\n",
       " 'dryer',\n",
       " 'half-board.required',\n",
       " 'gym.required',\n",
       " 'basement',\n",
       " 'bedroom_furnished',\n",
       " 'other-optional-costs.refundable',\n",
       " 'late-move-in.required',\n",
       " 'final-cleaning.payableAt',\n",
       " 'other-additional-costs.payableAt',\n",
       " 'animal_allowed',\n",
       " 'parking.refundable']"
      ]
     },
     "execution_count": 471,
     "metadata": {},
     "output_type": "execute_result"
    }
   ],
   "source": [
    "le_cols"
   ]
  },
  {
   "cell_type": "markdown",
   "id": "a84394c4",
   "metadata": {},
   "source": [
    "<h4> <font color=\"orange\"> Convert Categorical to Numeric variables </font> </h4>"
   ]
  },
  {
   "cell_type": "code",
   "execution_count": 468,
   "id": "f3f589f3",
   "metadata": {},
   "outputs": [],
   "source": [
    "mle = MultiColumnLabelEncoder(columns = le_cols)"
   ]
  },
  {
   "cell_type": "code",
   "execution_count": 470,
   "id": "c6921d91",
   "metadata": {},
   "outputs": [],
   "source": [
    "train1.to_csv(r'train1.csv', index = False)"
   ]
  },
  {
   "cell_type": "code",
   "execution_count": 469,
   "id": "ba7449b7",
   "metadata": {},
   "outputs": [
    {
     "ename": "AttributeError",
     "evalue": "'list' object has no attribute 'shape'",
     "output_type": "error",
     "traceback": [
      "\u001b[1;31m---------------------------------------------------------------------------\u001b[0m",
      "\u001b[1;31mAttributeError\u001b[0m                            Traceback (most recent call last)",
      "\u001b[1;32m~\\AppData\\Local\\Temp\\ipykernel_19604\\4260997086.py\u001b[0m in \u001b[0;36m<module>\u001b[1;34m\u001b[0m\n\u001b[1;32m----> 1\u001b[1;33m \u001b[0mtrain2\u001b[0m \u001b[1;33m=\u001b[0m \u001b[0mmle\u001b[0m\u001b[1;33m.\u001b[0m\u001b[0mfit_transform\u001b[0m\u001b[1;33m(\u001b[0m\u001b[0mtrain1\u001b[0m\u001b[1;33m)\u001b[0m\u001b[1;33m\u001b[0m\u001b[1;33m\u001b[0m\u001b[0m\n\u001b[0m",
      "\u001b[1;32m~\\AppData\\Local\\Temp\\ipykernel_19604\\1305773748.py\u001b[0m in \u001b[0;36mfit_transform\u001b[1;34m(self, dframe)\u001b[0m\n\u001b[0;32m     94\u001b[0m             \u001b[1;31m# ndarray to hold LabelEncoder().classes_ for each\u001b[0m\u001b[1;33m\u001b[0m\u001b[1;33m\u001b[0m\u001b[1;33m\u001b[0m\u001b[0m\n\u001b[0;32m     95\u001b[0m             \u001b[1;31m# column; should match the shape of specified `columns`\u001b[0m\u001b[1;33m\u001b[0m\u001b[1;33m\u001b[0m\u001b[1;33m\u001b[0m\u001b[0m\n\u001b[1;32m---> 96\u001b[1;33m             self.all_classes_ = np.ndarray(shape=self.columns.shape,\n\u001b[0m\u001b[0;32m     97\u001b[0m                                            dtype=object)\n\u001b[0;32m     98\u001b[0m             self.all_encoders_ = np.ndarray(shape=self.columns.shape,\n",
      "\u001b[1;31mAttributeError\u001b[0m: 'list' object has no attribute 'shape'"
     ]
    }
   ],
   "source": [
    "train2 = mle.fit_transform(train1)"
   ]
  },
  {
   "cell_type": "markdown",
   "id": "c2570b87",
   "metadata": {},
   "source": [
    "<h4> <font color=\"orange\"> One hot encode variables </font> </h4>"
   ]
  },
  {
   "cell_type": "code",
   "execution_count": 345,
   "id": "6bc0dab2",
   "metadata": {},
   "outputs": [],
   "source": [
    "# one hot encode variables\n",
    "\n",
    "train3 = pd.get_dummies(train2, columns=['CANCELLATION_POLICY', 'COUPLES_ALLOWED', 'KIND', 'TYPE', 'ZIP'], dummy_na = True)\n"
   ]
  },
  {
   "cell_type": "code",
   "execution_count": 346,
   "id": "a6f6067f",
   "metadata": {},
   "outputs": [],
   "source": [
    "#  remove columns\n",
    "train3 = train3.drop(['CREATED_AT', 'FACILITIES_JSON', 'COSTS_DOC'], axis= 1)\n",
    "\n",
    "cols = train3.columns\n",
    "\n",
    "train3[cols] = train3[cols].apply(pd.to_numeric, errors='coerce')"
   ]
  },
  {
   "cell_type": "code",
   "execution_count": 347,
   "id": "c0dbd7bc",
   "metadata": {},
   "outputs": [
    {
     "data": {
      "text/plain": [
       "(11764, 269)"
      ]
     },
     "execution_count": 347,
     "metadata": {},
     "output_type": "execute_result"
    }
   ],
   "source": [
    "train3.shape"
   ]
  },
  {
   "cell_type": "code",
   "execution_count": 348,
   "id": "942e5fdf",
   "metadata": {},
   "outputs": [],
   "source": [
    "cols_train = train3.columns"
   ]
  },
  {
   "cell_type": "markdown",
   "id": "906f759d",
   "metadata": {},
   "source": [
    "<h4> <font color=\"orange\"> Missing value check </font> </h4>"
   ]
  },
  {
   "cell_type": "code",
   "execution_count": 349,
   "id": "dadcf082",
   "metadata": {
    "scrolled": true
   },
   "outputs": [
    {
     "name": "stdout",
     "output_type": "stream",
     "text": [
      "                                    variable    missing\n",
      "31                       towel-deposit.value  99.991499\n",
      "30                     bedding-deposit.value  99.982999\n",
      "24                       late-move-out.value  99.982999\n",
      "25                      early-move-out.value  99.940496\n",
      "23                       early-move-in.value  99.914995\n",
      "22                       end-early-fee.value  99.914995\n",
      "14                other-optional-costs.value  99.906494\n",
      "29                   broadcasting-bill.value  99.889493\n",
      "26                          half-board.value  99.829990\n",
      "21                       other-deposit.value  99.804488\n",
      "28                          full-board.value  99.761986\n",
      "27                                 gym.value  99.753485\n",
      "17                      final-cleaning.value  99.549473\n",
      "18                             parking.value  99.362462\n",
      "20              other-additional-costs.value  98.996940\n",
      "13                    overnight-guests.value  98.342401\n",
      "16                  towels-and-bedding.value  96.863312\n",
      "15                        late-move-in.value  96.820809\n",
      "19  administration-fee.calculationRule.value  96.591295\n",
      "11                    cleaning-service.value  90.181911\n",
      "2                               bedroom_size  82.590955\n",
      "5                           water-bill.value  73.223393\n",
      "4                             gas-bill.value  73.206392\n",
      "8                     electricity-bill.value  73.163890\n",
      "6                        internet-bill.value  70.647739\n",
      "12                        cleaning-fee.value  66.592996\n",
      "7                        utility-bills.value  40.266916\n",
      "0                                    DEPOSIT  34.673580\n",
      "10                  administration-fee.value  31.060864\n",
      "1                                 total_size  22.568854\n",
      "3                              bedroom_count  16.312479\n",
      "9                     security-deposit.value   8.568514\n",
      " \n",
      "Observations: Multiple variables with 99% missig values can be observed\n"
     ]
    }
   ],
   "source": [
    "var = []\n",
    "val=[]\n",
    "for i in train3.columns:\n",
    "    if train3[i].isnull().sum() > 0:\n",
    "        val.append(train3[i].isnull().sum()*100/train3.shape[0])\n",
    "        var.append(i)\n",
    "miss_data = pd.DataFrame({'variable': var, 'missing': val})\n",
    "miss_data = miss_data.sort_values('missing', ascending = False)\n",
    "print(miss_data)\n",
    "print(' ')\n",
    "print('Observations: Multiple variables with 99% missig values can be observed')"
   ]
  },
  {
   "cell_type": "code",
   "execution_count": 350,
   "id": "0c713167",
   "metadata": {},
   "outputs": [],
   "source": [
    "y_train = train3.PRICE\n",
    "x_train1 = train3.drop('PRICE', axis = 1)\n"
   ]
  },
  {
   "cell_type": "markdown",
   "id": "84e64f1d",
   "metadata": {},
   "source": [
    "<h4> <font color=\"orange\"> Remove columns with higher missing values  </font> </h4>"
   ]
  },
  {
   "cell_type": "code",
   "execution_count": 374,
   "id": "ed5ca1e8",
   "metadata": {},
   "outputs": [],
   "source": [
    "x_train3 , cols_remove= remove_missing(x_train1, 41)\n"
   ]
  },
  {
   "cell_type": "code",
   "execution_count": 375,
   "id": "18bf7932",
   "metadata": {},
   "outputs": [
    {
     "data": {
      "text/plain": [
       "(11764, 242)"
      ]
     },
     "execution_count": 375,
     "metadata": {},
     "output_type": "execute_result"
    }
   ],
   "source": [
    "x_train3.shape"
   ]
  },
  {
   "cell_type": "code",
   "execution_count": 376,
   "id": "4a95f1da",
   "metadata": {},
   "outputs": [
    {
     "data": {
      "text/plain": [
       "True"
      ]
     },
     "execution_count": 376,
     "metadata": {},
     "output_type": "execute_result"
    }
   ],
   "source": [
    "'DEPOSIT' in x_train3.columns"
   ]
  },
  {
   "cell_type": "code",
   "execution_count": 377,
   "id": "8d519b45",
   "metadata": {},
   "outputs": [
    {
     "name": "stdout",
     "output_type": "stream",
     "text": [
      "                   variable    missing\n",
      "3       utility-bills.value  40.266916\n",
      "0                   DEPOSIT  34.673580\n",
      "5  administration-fee.value  31.060864\n",
      "1                total_size  22.568854\n",
      "2             bedroom_count  16.312479\n",
      "4    security-deposit.value   8.568514\n",
      " \n",
      "Observations: Multiple variables with 99% missig values can be observed\n"
     ]
    }
   ],
   "source": [
    "var = []\n",
    "val=[]\n",
    "for i in x_train3.columns:\n",
    "    if x_train3[i].isnull().sum() > 0:\n",
    "        val.append(x_train3[i].isnull().sum()*100/x_train3.shape[0])\n",
    "        var.append(i)\n",
    "miss_data = pd.DataFrame({'variable': var, 'missing': val})\n",
    "miss_data = miss_data.sort_values('missing', ascending = False)\n",
    "print(miss_data)\n",
    "print(' ')\n",
    "print('Observations: Multiple variables with 99% missig values can be observed')"
   ]
  },
  {
   "cell_type": "markdown",
   "id": "d623f9d7",
   "metadata": {},
   "source": [
    "<h4> <font color=\"orange\"> Imputation of Missing Values </font> </h4>"
   ]
  },
  {
   "cell_type": "code",
   "execution_count": 380,
   "id": "97713114",
   "metadata": {},
   "outputs": [],
   "source": [
    "imp_mean2 = IterativeImputer(max_iter=40, tol=0.001, \n",
    "                                 n_nearest_features=10, initial_strategy='median')\n",
    "\n",
    "x_train3_i =imp_mean2.fit_transform(x_train3)"
   ]
  },
  {
   "cell_type": "code",
   "execution_count": 381,
   "id": "08e72dc5",
   "metadata": {},
   "outputs": [],
   "source": [
    "x_train3_imp = pd.DataFrame(x_train3_i, columns = x_train3.columns,index= x_train3.index)"
   ]
  },
  {
   "cell_type": "markdown",
   "id": "3bb692c6",
   "metadata": {},
   "source": [
    "<h4> <font color=\"orange\"> Random Forest on complete training data </font> </h4>"
   ]
  },
  {
   "cell_type": "code",
   "execution_count": 382,
   "id": "b8459a37",
   "metadata": {},
   "outputs": [],
   "source": [
    "rgb1 = RandomForestRegressor(n_estimators = 500, max_features = 0.7, max_samples = 0.9, oob_score= True)"
   ]
  },
  {
   "cell_type": "code",
   "execution_count": 384,
   "id": "4c82522c",
   "metadata": {},
   "outputs": [
    {
     "data": {
      "text/plain": [
       "RandomForestRegressor(max_features=0.7, max_samples=0.9, n_estimators=500,\n",
       "                      oob_score=True)"
      ]
     },
     "execution_count": 384,
     "metadata": {},
     "output_type": "execute_result"
    }
   ],
   "source": [
    "rgb1.fit(x_train3_imp, y_train)"
   ]
  },
  {
   "cell_type": "markdown",
   "id": "72af7357",
   "metadata": {},
   "source": [
    "<h4> <font color=\"orange\"> Feature Importance </font> </h4>"
   ]
  },
  {
   "cell_type": "code",
   "execution_count": 385,
   "id": "eeca2041",
   "metadata": {
    "scrolled": true
   },
   "outputs": [
    {
     "data": {
      "text/plain": [
       "administration-fee.value          0.113901\n",
       "utility-bills.value               0.109264\n",
       "security-deposit.value            0.105038\n",
       "total_size                        0.086167\n",
       "KIND_entire_place                 0.075117\n",
       "DEPOSIT                           0.049940\n",
       "cleaning_private                  0.036319\n",
       "flooring                          0.027942\n",
       "basement                          0.021074\n",
       "heating                           0.020760\n",
       "bedroom_count                     0.017689\n",
       "registration_possible             0.016628\n",
       "ZIP_8003.0                        0.014688\n",
       "KIND_private_room                 0.012457\n",
       "tenant_status                     0.011019\n",
       "play_music                        0.010302\n",
       "dryer                             0.010223\n",
       "administration-fee.payableAt      0.010065\n",
       "parking                           0.009835\n",
       "administration-fee.required       0.009760\n",
       "garden                            0.009409\n",
       "dishwasher                        0.008881\n",
       "cleaning_common                   0.008849\n",
       "animal_allowed                    0.008747\n",
       "ac                                0.008341\n",
       "TYPE_house                        0.008207\n",
       "administration-fee.payableBy      0.008043\n",
       "allergy_friendly                  0.007279\n",
       "ZIP_8006.0                        0.007197\n",
       "ZIP_8011.0                        0.007026\n",
       "wheelchair_accessible             0.006026\n",
       "ZIP_8037.0                        0.005958\n",
       "balcony_terrace                   0.005867\n",
       "gas-bill.payableBy                0.005229\n",
       "ZIP_8007.0                        0.005177\n",
       "ZIP_8009.0                        0.004229\n",
       "tv                                0.004219\n",
       "kitchen                           0.004120\n",
       "lock                              0.003881\n",
       "smoking_allowed                   0.003135\n",
       "administration-fee.refundable     0.002868\n",
       "security-deposit.refundable       0.002761\n",
       "COUPLES_ALLOWED_yes               0.002645\n",
       "cleaning-service.payableAt        0.002566\n",
       "closet                            0.002521\n",
       "security-deposit.payableAt        0.002465\n",
       "desk                              0.002396\n",
       "administration-fee.isEstimated    0.002353\n",
       "COUPLES_ALLOWED_nan               0.002314\n",
       "security-deposit.isEstimated      0.002223\n",
       "dtype: float64"
      ]
     },
     "execution_count": 385,
     "metadata": {},
     "output_type": "execute_result"
    }
   ],
   "source": [
    "feat_importances = pd.Series(rgb1.feature_importances_, index=x_train3_imp.columns)\n",
    "feat_importances.nlargest(50)"
   ]
  },
  {
   "cell_type": "code",
   "execution_count": 386,
   "id": "6cfbbc8c",
   "metadata": {},
   "outputs": [],
   "source": [
    "imp_val = [feat_importances.nlargest(i).sum() for i in range(feat_importances.shape[0])]"
   ]
  },
  {
   "cell_type": "code",
   "execution_count": 387,
   "id": "1fddce97",
   "metadata": {},
   "outputs": [
    {
     "data": {
      "image/png": "[encoded data removed]",
      "text/plain": [
       "<Figure size 432x288 with 1 Axes>"
      ]
     },
     "metadata": {
      "needs_background": "light"
     },
     "output_type": "display_data"
    },
    {
     "name": "stdout",
     "output_type": "stream",
     "text": [
      " \n",
      "Observations: Based on the plot, 100 features can be a good count\n"
     ]
    }
   ],
   "source": [
    "plt.scatter(range(0, feat_importances.shape[0]), imp_val)\n",
    "plt.title('Cummulative importance')\n",
    "plt.ylabel('Importance')\n",
    "plt.xlabel('count of features')\n",
    "plt.show()\n",
    "\n",
    "print(' ')\n",
    "print('Observations: Based on the plot, 50 features can be a good count since importance reaches 92%')"
   ]
  },
  {
   "cell_type": "code",
   "execution_count": 395,
   "id": "8c89fcd1",
   "metadata": {},
   "outputs": [],
   "source": [
    "important_cols = feat_importances.nlargest(50).index"
   ]
  },
  {
   "cell_type": "code",
   "execution_count": 396,
   "id": "4b0b431f",
   "metadata": {},
   "outputs": [],
   "source": [
    "x_train3_imp_mod = x_train3_imp[important_cols]"
   ]
  },
  {
   "cell_type": "code",
   "execution_count": 397,
   "id": "d436340b",
   "metadata": {},
   "outputs": [
    {
     "data": {
      "text/plain": [
       "(11764, 50)"
      ]
     },
     "execution_count": 397,
     "metadata": {},
     "output_type": "execute_result"
    }
   ],
   "source": [
    "x_train3_imp_mod.shape"
   ]
  },
  {
   "cell_type": "markdown",
   "id": "7f168ce2",
   "metadata": {},
   "source": [
    "<h4> <font color=\"orange\">Random Forest Training with 50 Important Features </font> </h4>"
   ]
  },
  {
   "cell_type": "code",
   "execution_count": 413,
   "id": "08b43e7a",
   "metadata": {},
   "outputs": [],
   "source": [
    "rgb2 = RandomForestRegressor(n_estimators = 800, max_features = 0.8, max_samples = 0.9, oob_score= True)"
   ]
  },
  {
   "cell_type": "code",
   "execution_count": 414,
   "id": "6e688e3c",
   "metadata": {},
   "outputs": [
    {
     "data": {
      "text/plain": [
       "RandomForestRegressor(max_features=0.8, max_samples=0.9, n_estimators=800,\n",
       "                      oob_score=True)"
      ]
     },
     "execution_count": 414,
     "metadata": {},
     "output_type": "execute_result"
    }
   ],
   "source": [
    "rgb2.fit(x_train3_imp_mod, y_train)"
   ]
  },
  {
   "cell_type": "markdown",
   "id": "632a2d97",
   "metadata": {},
   "source": [
    "<h4> <font color=\"orange\"> Preprocess Validation data </font> </h4>"
   ]
  },
  {
   "cell_type": "code",
   "execution_count": 402,
   "id": "fd9aa6e0",
   "metadata": {},
   "outputs": [],
   "source": [
    "def preprocess_test(test, mle,  cols_train, cols_train_before, cols_remove, imp_mean2, important_cols):\n",
    "    '''Function to input test data and convert it into data ready for Prediction'''\n",
    "\n",
    "    # convert to datetime\n",
    "    test['CREATED_AT'] = pd.to_datetime(test['CREATED_AT'])\n",
    "\n",
    "    test['FACILITIES_JSON'] = test['FACILITIES_JSON'].apply(lambda x: null_x(x))\n",
    "    test['FACILITIES_JSON'] = test['FACILITIES_JSON'].apply(lambda x: eval_x(x) )\n",
    "    test['COSTS_DOC'] = test['COSTS_DOC'].apply(lambda x: true_false_x(x) )\n",
    "    test['COSTS_DOC'] = test['COSTS_DOC'].apply(lambda x: eval_x(x) )\n",
    "    print('t2.....')\n",
    "    t2 = pd.json_normalize(test['COSTS_DOC'])\n",
    "    t1 = pd.json_normalize(test['FACILITIES_JSON'])\n",
    "    t1.index = test.index.values\n",
    "    t2.index = test.index.values\n",
    "    print('Concatenation')\n",
    "    test1 = pd.concat([test, t1, t2] , axis= 1)\n",
    "    print('11111')\n",
    "    cols_test_before = test1.columns\n",
    "    test2 = same_train_test(cols_train_before, cols_test_before, test1)\n",
    "    test2 = mle.transform(test2)\n",
    "    test3 = pd.get_dummies(test2, columns=['CANCELLATION_POLICY', 'COUPLES_ALLOWED', 'KIND', 'TYPE', 'ZIP'], dummy_na = True)\n",
    "  \n",
    "#  remove columns\n",
    "    test3 = test3.drop(['CREATED_AT', 'FACILITIES_JSON', 'COSTS_DOC'], axis= 1)\n",
    "    cols_test = test3.columns\n",
    "    test4 = same_train_test(cols_train, cols_test, test3)\n",
    "    cols = test4.columns\n",
    "    test4[cols] = test4[cols].apply(pd.to_numeric, errors='coerce')\n",
    "    test4 = test4.drop(cols_remove, axis = 1)\n",
    "    y_test = test4.PRICE\n",
    "    x_test = test4.drop('PRICE', axis = 1)\n",
    "    x_test_i = imp_mean2.transform(x_test)\n",
    "    x_test_imp = pd.DataFrame(x_test_i, columns= x_test.columns , index= x_test.index)\n",
    "    x_test_imp_mod = x_test_imp[important_cols]\n",
    "\n",
    "    return(x_test_imp_mod, y_test)\n"
   ]
  },
  {
   "cell_type": "code",
   "execution_count": 404,
   "id": "c3bb4151",
   "metadata": {},
   "outputs": [
    {
     "name": "stdout",
     "output_type": "stream",
     "text": [
      "t2.....\n",
      "Concatenation\n",
      "11111\n"
     ]
    }
   ],
   "source": [
    "valid_final = preprocess_test(valid, mle, cols_train, cols_train_before, cols_remove, imp_mean2, important_cols)"
   ]
  },
  {
   "cell_type": "markdown",
   "id": "837e9d40",
   "metadata": {},
   "source": [
    "<h4> <font color=\"orange\">Prediction on Validtion Data </font> </h4>"
   ]
  },
  {
   "cell_type": "code",
   "execution_count": 415,
   "id": "63bfbe6b",
   "metadata": {},
   "outputs": [
    {
     "name": "stdout",
     "output_type": "stream",
     "text": [
      "128.01168231928273\n",
      "51.34821483059873\n"
     ]
    }
   ],
   "source": [
    "predict123= rgb2.predict(valid_final[0])\n",
    "print(mean_absolute_error(valid_final[1], predict123))\n",
    "print(mean_absolute_error(y_train, rgb2.predict(x_train3_imp_mod)))\n",
    "\n"
   ]
  },
  {
   "cell_type": "markdown",
   "id": "8bf57ffd",
   "metadata": {},
   "source": [
    "<h4> <font color=\"orange\">Error Analysis </font> </h4>"
   ]
  },
  {
   "cell_type": "code",
   "execution_count": 460,
   "id": "423f68d2",
   "metadata": {},
   "outputs": [
    {
     "name": "stdout",
     "output_type": "stream",
     "text": [
      "moderate           0.906494\n",
      "underestimation    0.064264\n",
      "overestimation     0.029242\n",
      "Name: infer, dtype: float64\n",
      " \n",
      "Observations: Almost 91% of data falls in the range of +- 300, there is 6% of data where underestimation is happening followed by 3% of data with Overestimation\n"
     ]
    }
   ],
   "source": [
    "df_first = pd.DataFrame()\n",
    "df_first['actual'] = valid_final[1]\n",
    "df_first['predicted'] = predict123\n",
    "df_first['residuals'] = df_first['actual'] - df_first['predicted']\n",
    "conditions  = [ df_first['residuals'] <= -300, (df_first['residuals'] >= -300) & (df_first['residuals']<= 300), df_first['residuals'] >= 300 ]\n",
    "choices     = [ \"underestimation\", 'moderate', 'overestimation' ]\n",
    "\n",
    "df_first[\"infer\"] = np.select(conditions, choices, default=np.nan)\n",
    "\n",
    "print(df_first['infer'].value_counts(normalize=True))\n",
    "print(' ')\n",
    "print('Observations: Almost 91% of data falls in the range of +- 300, there is 6% of data where underestimation is happening followed by 3% of data with Overestimation')\n"
   ]
  },
  {
   "cell_type": "markdown",
   "id": "e38eb8cc",
   "metadata": {},
   "source": [
    "<h2> <font color=\"orange\">Observations : Iteration 2 </font> </h2>"
   ]
  },
  {
   "cell_type": "markdown",
   "id": "fabea11c",
   "metadata": {},
   "source": [
    "<li> Random Forest model with Facilities and Costs are developed </li>\n",
    "<li> Columns with very high missing values are removed </li>\n",
    "<li> Nearest Neighbor based imputation is used to impute missing values </li>\n",
    "<li> Random Forest based Importance is used to reduce number of features from 242 to 50 </li>\n",
    "<li> This approach led to an improvement from Baseline model by over 108 units in MAE </li>"
   ]
  },
  {
   "cell_type": "markdown",
   "id": "dcda03ef",
   "metadata": {},
   "source": [
    "<h2> <font color=\"orange\">Save models</font> </h2>"
   ]
  },
  {
   "cell_type": "code",
   "execution_count": 423,
   "id": "71581444",
   "metadata": {},
   "outputs": [],
   "source": [
    "\n",
    "# with open('rgb_base', 'wb') as f:\n",
    "#     dill.dump(rgb_base, f)\n",
    "    \n",
    "# with open('rgb2', 'wb') as f:\n",
    "#     dill.dump(rgb2, f)\n",
    "    \n",
    "# with open('rgb1', 'wb') as f:\n",
    "#     dill.dump(rgb1, f)\n",
    "    \n",
    "# with open('mle', 'wb') as f:\n",
    "#     dill.dump(mle, f)\n",
    "    \n",
    "# with open('imp_mean1', 'wb') as f:\n",
    "#     dill.dump(imp_mean1, f)\n",
    "    \n",
    "# with open('imp_mean2', 'wb') as f:\n",
    "#     dill.dump(imp_mean2, f)\n",
    "    \n"
   ]
  },
  {
   "cell_type": "code",
   "execution_count": 427,
   "id": "e68e3dd1",
   "metadata": {},
   "outputs": [],
   "source": [
    "# with open('cols_train', 'wb') as f:\n",
    "#     dill.dump(cols_train, f)\n",
    "\n",
    "# with open('cols_train_before', 'wb') as f:\n",
    "#     dill.dump(cols_train_before, f)\n",
    "    \n",
    "# with open('important_cols', 'wb') as f:\n",
    "#     dill.dump(important_cols, f)\n",
    "    \n",
    "# with open('cols_remove', 'wb') as f:\n",
    "#     dill.dump(cols_remove, f)"
   ]
  },
  {
   "cell_type": "code",
   "execution_count": 431,
   "id": "86352fe1",
   "metadata": {},
   "outputs": [],
   "source": [
    "# valid.to_csv('validation.csv', index= False)"
   ]
  },
  {
   "cell_type": "code",
   "execution_count": 443,
   "id": "8e7f8e2e",
   "metadata": {},
   "outputs": [],
   "source": [
    "# train.to_csv(r'train.csv', index= False)\n",
    "# valid.to_csv(r'valid.csv', index = False)\n",
    "# test.to_csv(r'test.csv', index = False)"
   ]
  },
  {
   "cell_type": "code",
   "execution_count": 461,
   "id": "878ca79d",
   "metadata": {},
   "outputs": [
    {
     "data": {
      "text/plain": [
       "((2941, 10), (2941, 4))"
      ]
     },
     "execution_count": 461,
     "metadata": {},
     "output_type": "execute_result"
    }
   ],
   "source": [
    "valid.shape, df_first.shape"
   ]
  },
  {
   "cell_type": "code",
   "execution_count": 463,
   "id": "8b3f8b07",
   "metadata": {},
   "outputs": [],
   "source": [
    "\n",
    "a= pd.concat([valid, df_first ], axis = 1)"
   ]
  },
  {
   "cell_type": "code",
   "execution_count": 466,
   "id": "cfce0e8d",
   "metadata": {},
   "outputs": [],
   "source": [
    "#a.to_csv(r'results.csv', index = False)"
   ]
  },
  {
   "cell_type": "code",
   "execution_count": null,
   "id": "86da1605",
   "metadata": {},
   "outputs": [],
   "source": []
  }
 ],
 "metadata": {
  "kernelspec": {
   "display_name": "Python 3 (ipykernel)",
   "language": "python",
   "name": "python3"
  },
  "language_info": {
   "codemirror_mode": {
    "name": "ipython",
    "version": 3
   },
   "file_extension": ".py",
   "mimetype": "text/x-python",
   "name": "python",
   "nbconvert_exporter": "python",
   "pygments_lexer": "ipython3",
   "version": "3.7.13"
  }
 },
 "nbformat": 4,
 "nbformat_minor": 5
}
